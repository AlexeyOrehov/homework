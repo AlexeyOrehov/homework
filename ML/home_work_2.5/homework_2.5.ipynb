{
 "cells": [
  {
   "cell_type": "code",
   "execution_count": 46,
   "id": "910d6385",
   "metadata": {},
   "outputs": [],
   "source": [
    "import pandas as pd\n",
    "from sklearn.model_selection import train_test_split\n",
    "from sklearn.preprocessing import StandardScaler\n",
    "from sklearn.linear_model import LogisticRegressionCV\n",
    "from sklearn.metrics import roc_auc_score\n",
    "from sklearn.ensemble import RandomForestClassifier\n",
    "from sklearn.model_selection import GridSearchCV"
   ]
  },
  {
   "cell_type": "code",
   "execution_count": 47,
   "id": "f76acbb4",
   "metadata": {},
   "outputs": [
    {
     "data": {
      "text/html": [
       "<div>\n",
       "<style scoped>\n",
       "    .dataframe tbody tr th:only-of-type {\n",
       "        vertical-align: middle;\n",
       "    }\n",
       "\n",
       "    .dataframe tbody tr th {\n",
       "        vertical-align: top;\n",
       "    }\n",
       "\n",
       "    .dataframe thead th {\n",
       "        text-align: right;\n",
       "    }\n",
       "</style>\n",
       "<table border=\"1\" class=\"dataframe\">\n",
       "  <thead>\n",
       "    <tr style=\"text-align: right;\">\n",
       "      <th></th>\n",
       "      <th>Grant.Status</th>\n",
       "      <th>Sponsor.Code</th>\n",
       "      <th>Grant.Category.Code</th>\n",
       "      <th>Contract.Value.Band...see.note.A</th>\n",
       "      <th>RFCD.Code.1</th>\n",
       "      <th>RFCD.Percentage.1</th>\n",
       "      <th>RFCD.Code.2</th>\n",
       "      <th>RFCD.Percentage.2</th>\n",
       "      <th>RFCD.Code.3</th>\n",
       "      <th>RFCD.Percentage.3</th>\n",
       "      <th>...</th>\n",
       "      <th>Dept.No..1</th>\n",
       "      <th>Faculty.No..1</th>\n",
       "      <th>With.PHD.1</th>\n",
       "      <th>No..of.Years.in.Uni.at.Time.of.Grant.1</th>\n",
       "      <th>Number.of.Successful.Grant.1</th>\n",
       "      <th>Number.of.Unsuccessful.Grant.1</th>\n",
       "      <th>A..1</th>\n",
       "      <th>A.1</th>\n",
       "      <th>B.1</th>\n",
       "      <th>C.1</th>\n",
       "    </tr>\n",
       "  </thead>\n",
       "  <tbody>\n",
       "    <tr>\n",
       "      <th>0</th>\n",
       "      <td>0</td>\n",
       "      <td>97A</td>\n",
       "      <td>30B</td>\n",
       "      <td>A</td>\n",
       "      <td>321024.0</td>\n",
       "      <td>50.0</td>\n",
       "      <td>321013.0</td>\n",
       "      <td>30.0</td>\n",
       "      <td>291502.0</td>\n",
       "      <td>20.0</td>\n",
       "      <td>...</td>\n",
       "      <td>2563.0</td>\n",
       "      <td>25.0</td>\n",
       "      <td>Yes</td>\n",
       "      <td>&gt;10 to 15</td>\n",
       "      <td>2.0</td>\n",
       "      <td>6.0</td>\n",
       "      <td>3.0</td>\n",
       "      <td>5.0</td>\n",
       "      <td>15.0</td>\n",
       "      <td>3.0</td>\n",
       "    </tr>\n",
       "    <tr>\n",
       "      <th>1</th>\n",
       "      <td>0</td>\n",
       "      <td>36D</td>\n",
       "      <td>10A</td>\n",
       "      <td>G</td>\n",
       "      <td>300201.0</td>\n",
       "      <td>100.0</td>\n",
       "      <td>0.0</td>\n",
       "      <td>0.0</td>\n",
       "      <td>0.0</td>\n",
       "      <td>0.0</td>\n",
       "      <td>...</td>\n",
       "      <td>1038.0</td>\n",
       "      <td>1.0</td>\n",
       "      <td>NaN</td>\n",
       "      <td>Less than 0</td>\n",
       "      <td>0.0</td>\n",
       "      <td>3.0</td>\n",
       "      <td>0.0</td>\n",
       "      <td>4.0</td>\n",
       "      <td>0.0</td>\n",
       "      <td>0.0</td>\n",
       "    </tr>\n",
       "    <tr>\n",
       "      <th>2</th>\n",
       "      <td>0</td>\n",
       "      <td>317A</td>\n",
       "      <td>30D</td>\n",
       "      <td>NaN</td>\n",
       "      <td>321013.0</td>\n",
       "      <td>100.0</td>\n",
       "      <td>0.0</td>\n",
       "      <td>0.0</td>\n",
       "      <td>0.0</td>\n",
       "      <td>0.0</td>\n",
       "      <td>...</td>\n",
       "      <td>2763.0</td>\n",
       "      <td>25.0</td>\n",
       "      <td>Yes</td>\n",
       "      <td>&gt;5 to 10</td>\n",
       "      <td>4.0</td>\n",
       "      <td>3.0</td>\n",
       "      <td>6.0</td>\n",
       "      <td>25.0</td>\n",
       "      <td>14.0</td>\n",
       "      <td>14.0</td>\n",
       "    </tr>\n",
       "    <tr>\n",
       "      <th>3</th>\n",
       "      <td>0</td>\n",
       "      <td>62B</td>\n",
       "      <td>10B</td>\n",
       "      <td>B</td>\n",
       "      <td>321103.0</td>\n",
       "      <td>30.0</td>\n",
       "      <td>321105.0</td>\n",
       "      <td>40.0</td>\n",
       "      <td>321204.0</td>\n",
       "      <td>30.0</td>\n",
       "      <td>...</td>\n",
       "      <td>2848.0</td>\n",
       "      <td>25.0</td>\n",
       "      <td>NaN</td>\n",
       "      <td>Less than 0</td>\n",
       "      <td>1.0</td>\n",
       "      <td>2.0</td>\n",
       "      <td>1.0</td>\n",
       "      <td>0.0</td>\n",
       "      <td>0.0</td>\n",
       "      <td>0.0</td>\n",
       "    </tr>\n",
       "    <tr>\n",
       "      <th>4</th>\n",
       "      <td>0</td>\n",
       "      <td>1A</td>\n",
       "      <td>10A</td>\n",
       "      <td>NaN</td>\n",
       "      <td>270603.0</td>\n",
       "      <td>60.0</td>\n",
       "      <td>321205.0</td>\n",
       "      <td>30.0</td>\n",
       "      <td>320603.0</td>\n",
       "      <td>10.0</td>\n",
       "      <td>...</td>\n",
       "      <td>2678.0</td>\n",
       "      <td>25.0</td>\n",
       "      <td>Yes</td>\n",
       "      <td>&gt;5 to 10</td>\n",
       "      <td>5.0</td>\n",
       "      <td>14.0</td>\n",
       "      <td>0.0</td>\n",
       "      <td>9.0</td>\n",
       "      <td>7.0</td>\n",
       "      <td>0.0</td>\n",
       "    </tr>\n",
       "  </tbody>\n",
       "</table>\n",
       "<p>5 rows × 39 columns</p>\n",
       "</div>"
      ],
      "text/plain": [
       "   Grant.Status Sponsor.Code Grant.Category.Code  \\\n",
       "0             0          97A                 30B   \n",
       "1             0          36D                 10A   \n",
       "2             0         317A                 30D   \n",
       "3             0          62B                 10B   \n",
       "4             0           1A                 10A   \n",
       "\n",
       "  Contract.Value.Band...see.note.A  RFCD.Code.1  RFCD.Percentage.1  \\\n",
       "0                               A      321024.0               50.0   \n",
       "1                               G      300201.0              100.0   \n",
       "2                              NaN     321013.0              100.0   \n",
       "3                               B      321103.0               30.0   \n",
       "4                              NaN     270603.0               60.0   \n",
       "\n",
       "   RFCD.Code.2  RFCD.Percentage.2  RFCD.Code.3  RFCD.Percentage.3  ...  \\\n",
       "0     321013.0               30.0     291502.0               20.0  ...   \n",
       "1          0.0                0.0          0.0                0.0  ...   \n",
       "2          0.0                0.0          0.0                0.0  ...   \n",
       "3     321105.0               40.0     321204.0               30.0  ...   \n",
       "4     321205.0               30.0     320603.0               10.0  ...   \n",
       "\n",
       "   Dept.No..1  Faculty.No..1  With.PHD.1  \\\n",
       "0      2563.0           25.0        Yes    \n",
       "1      1038.0            1.0         NaN   \n",
       "2      2763.0           25.0        Yes    \n",
       "3      2848.0           25.0         NaN   \n",
       "4      2678.0           25.0        Yes    \n",
       "\n",
       "   No..of.Years.in.Uni.at.Time.of.Grant.1  Number.of.Successful.Grant.1  \\\n",
       "0                               >10 to 15                           2.0   \n",
       "1                             Less than 0                           0.0   \n",
       "2                                >5 to 10                           4.0   \n",
       "3                             Less than 0                           1.0   \n",
       "4                                >5 to 10                           5.0   \n",
       "\n",
       "   Number.of.Unsuccessful.Grant.1  A..1   A.1   B.1   C.1  \n",
       "0                             6.0   3.0   5.0  15.0   3.0  \n",
       "1                             3.0   0.0   4.0   0.0   0.0  \n",
       "2                             3.0   6.0  25.0  14.0  14.0  \n",
       "3                             2.0   1.0   0.0   0.0   0.0  \n",
       "4                            14.0   0.0   9.0   7.0   0.0  \n",
       "\n",
       "[5 rows x 39 columns]"
      ]
     },
     "execution_count": 47,
     "metadata": {},
     "output_type": "execute_result"
    }
   ],
   "source": [
    "df = pd.read_csv('grant_data_imb.csv')\n",
    "df.head()"
   ]
  },
  {
   "cell_type": "code",
   "execution_count": 48,
   "id": "05e13173",
   "metadata": {},
   "outputs": [
    {
     "name": "stdout",
     "output_type": "stream",
     "text": [
      "<class 'pandas.core.frame.DataFrame'>\n",
      "RangeIndex: 4113 entries, 0 to 4112\n",
      "Data columns (total 39 columns):\n",
      " #   Column                                  Non-Null Count  Dtype  \n",
      "---  ------                                  --------------  -----  \n",
      " 0   Grant.Status                            4113 non-null   int64  \n",
      " 1   Sponsor.Code                            3856 non-null   object \n",
      " 2   Grant.Category.Code                     3856 non-null   object \n",
      " 3   Contract.Value.Band...see.note.A        1953 non-null   object \n",
      " 4   RFCD.Code.1                             3853 non-null   float64\n",
      " 5   RFCD.Percentage.1                       3853 non-null   float64\n",
      " 6   RFCD.Code.2                             3853 non-null   float64\n",
      " 7   RFCD.Percentage.2                       3853 non-null   float64\n",
      " 8   RFCD.Code.3                             3853 non-null   float64\n",
      " 9   RFCD.Percentage.3                       3853 non-null   float64\n",
      " 10  RFCD.Code.4                             3853 non-null   float64\n",
      " 11  RFCD.Percentage.4                       3853 non-null   float64\n",
      " 12  RFCD.Code.5                             3853 non-null   float64\n",
      " 13  RFCD.Percentage.5                       3853 non-null   float64\n",
      " 14  SEO.Code.1                              3837 non-null   float64\n",
      " 15  SEO.Percentage.1                        3837 non-null   float64\n",
      " 16  SEO.Code.2                              3837 non-null   float64\n",
      " 17  SEO.Percentage.2                        3837 non-null   float64\n",
      " 18  SEO.Code.3                              3837 non-null   float64\n",
      " 19  SEO.Percentage.3                        3837 non-null   float64\n",
      " 20  SEO.Code.4                              3837 non-null   float64\n",
      " 21  SEO.Percentage.4                        3837 non-null   float64\n",
      " 22  SEO.Code.5                              3837 non-null   float64\n",
      " 23  SEO.Percentage.5                        3837 non-null   float64\n",
      " 24  Person.ID.1                             3826 non-null   float64\n",
      " 25  Role.1                                  4067 non-null   object \n",
      " 26  Year.of.Birth.1                         3825 non-null   float64\n",
      " 27  Country.of.Birth.1                      3447 non-null   object \n",
      " 28  Home.Language.1                         394 non-null    object \n",
      " 29  Dept.No..1                              3665 non-null   float64\n",
      " 30  Faculty.No..1                           3664 non-null   float64\n",
      " 31  With.PHD.1                              2332 non-null   object \n",
      " 32  No..of.Years.in.Uni.at.Time.of.Grant.1  3354 non-null   object \n",
      " 33  Number.of.Successful.Grant.1            3826 non-null   float64\n",
      " 34  Number.of.Unsuccessful.Grant.1          3826 non-null   float64\n",
      " 35  A..1                                    3826 non-null   float64\n",
      " 36  A.1                                     3826 non-null   float64\n",
      " 37  B.1                                     3826 non-null   float64\n",
      " 38  C.1                                     3826 non-null   float64\n",
      "dtypes: float64(30), int64(1), object(8)\n",
      "memory usage: 1.2+ MB\n"
     ]
    }
   ],
   "source": [
    "df.info()"
   ]
  },
  {
   "cell_type": "markdown",
   "id": "fae4a9de",
   "metadata": {},
   "source": [
    "Данный датасет имеет 39 колонок и 4113 строчек, и в каждой столбе значений, кроме первого, имеются пропуски\n",
    "Имеются два типа данных - числовой(float and int) и категориальный(object), все типы данных соответствуют"
   ]
  },
  {
   "cell_type": "code",
   "execution_count": 49,
   "id": "70e0a9c7",
   "metadata": {},
   "outputs": [
    {
     "data": {
      "text/plain": [
       "Index(['Grant.Status', 'Sponsor.Code', 'Grant.Category.Code',\n",
       "       'Contract.Value.Band...see.note.A', 'RFCD.Code.1', 'RFCD.Percentage.1',\n",
       "       'RFCD.Code.2', 'RFCD.Percentage.2', 'RFCD.Code.3', 'RFCD.Percentage.3',\n",
       "       'RFCD.Code.4', 'RFCD.Percentage.4', 'RFCD.Code.5', 'RFCD.Percentage.5',\n",
       "       'SEO.Code.1', 'SEO.Percentage.1', 'SEO.Code.2', 'SEO.Percentage.2',\n",
       "       'SEO.Code.3', 'SEO.Percentage.3', 'SEO.Code.4', 'SEO.Percentage.4',\n",
       "       'SEO.Code.5', 'SEO.Percentage.5', 'Person.ID.1', 'Role.1',\n",
       "       'Year.of.Birth.1', 'Country.of.Birth.1', 'Home.Language.1',\n",
       "       'Dept.No..1', 'Faculty.No..1', 'With.PHD.1',\n",
       "       'No..of.Years.in.Uni.at.Time.of.Grant.1',\n",
       "       'Number.of.Successful.Grant.1', 'Number.of.Unsuccessful.Grant.1',\n",
       "       'A..1', 'A.1', 'B.1', 'C.1'],\n",
       "      dtype='object')"
      ]
     },
     "execution_count": 49,
     "metadata": {},
     "output_type": "execute_result"
    }
   ],
   "source": [
    "df.columns"
   ]
  },
  {
   "cell_type": "markdown",
   "id": "87ad9b92",
   "metadata": {},
   "source": [
    "Переведем название фичей в нижний регистр и заменим точку на нижнее подчеркивание"
   ]
  },
  {
   "cell_type": "code",
   "execution_count": 50,
   "id": "0520b239",
   "metadata": {},
   "outputs": [],
   "source": [
    "df.columns = [col.lower().replace('.', '_') for col in df.columns]"
   ]
  },
  {
   "cell_type": "code",
   "execution_count": 51,
   "id": "61276052",
   "metadata": {},
   "outputs": [
    {
     "data": {
      "text/plain": [
       "Index(['grant_status', 'sponsor_code', 'grant_category_code',\n",
       "       'contract_value_band___see_note_a', 'rfcd_code_1', 'rfcd_percentage_1',\n",
       "       'rfcd_code_2', 'rfcd_percentage_2', 'rfcd_code_3', 'rfcd_percentage_3',\n",
       "       'rfcd_code_4', 'rfcd_percentage_4', 'rfcd_code_5', 'rfcd_percentage_5',\n",
       "       'seo_code_1', 'seo_percentage_1', 'seo_code_2', 'seo_percentage_2',\n",
       "       'seo_code_3', 'seo_percentage_3', 'seo_code_4', 'seo_percentage_4',\n",
       "       'seo_code_5', 'seo_percentage_5', 'person_id_1', 'role_1',\n",
       "       'year_of_birth_1', 'country_of_birth_1', 'home_language_1',\n",
       "       'dept_no__1', 'faculty_no__1', 'with_phd_1',\n",
       "       'no__of_years_in_uni_at_time_of_grant_1',\n",
       "       'number_of_successful_grant_1', 'number_of_unsuccessful_grant_1',\n",
       "       'a__1', 'a_1', 'b_1', 'c_1'],\n",
       "      dtype='object')"
      ]
     },
     "execution_count": 51,
     "metadata": {},
     "output_type": "execute_result"
    }
   ],
   "source": [
    "df.columns"
   ]
  },
  {
   "cell_type": "markdown",
   "id": "57181d73",
   "metadata": {},
   "source": [
    "Раздели признаки на количественные и категориальные"
   ]
  },
  {
   "cell_type": "code",
   "execution_count": 52,
   "id": "26c82d00",
   "metadata": {},
   "outputs": [],
   "source": [
    "features_names_categorical = df.select_dtypes(include=['object']).columns\n",
    "features_names_quantitative = df.select_dtypes(include=['float', 'int']).columns.drop('grant_status')"
   ]
  },
  {
   "cell_type": "code",
   "execution_count": 53,
   "id": "f19cc4ad",
   "metadata": {},
   "outputs": [],
   "source": [
    "for col in features_names_quantitative:\n",
    "    df[col + '_zero'] = df[col].fillna(0)\n",
    "    df[col] = df[col].fillna(df[col].mean())"
   ]
  },
  {
   "cell_type": "markdown",
   "id": "84d34930",
   "metadata": {},
   "source": [
    "Теперь работаем с категориальными признаками"
   ]
  },
  {
   "cell_type": "code",
   "execution_count": 54,
   "id": "e76d11f3",
   "metadata": {},
   "outputs": [
    {
     "data": {
      "text/plain": [
       "Index(['sponsor_code', 'grant_category_code',\n",
       "       'contract_value_band___see_note_a', 'role_1', 'country_of_birth_1',\n",
       "       'home_language_1', 'with_phd_1',\n",
       "       'no__of_years_in_uni_at_time_of_grant_1'],\n",
       "      dtype='object')"
      ]
     },
     "execution_count": 54,
     "metadata": {},
     "output_type": "execute_result"
    }
   ],
   "source": [
    "features_names_categorical"
   ]
  },
  {
   "cell_type": "code",
   "execution_count": 55,
   "id": "c5ba4277",
   "metadata": {},
   "outputs": [],
   "source": [
    "df['sponsor_code'] = df['sponsor_code'].fillna(df['sponsor_code'].mode()[0])\n",
    "df['grant_category_code'] = df['grant_category_code'].fillna(df['grant_category_code'].mode()[0])\n",
    "df['contract_value_band___see_note_a'] = df['contract_value_band___see_note_a'].fillna(df['contract_value_band___see_note_a'].mode()[0])\n",
    "df['role_1'] = df['role_1'].fillna(df['role_1'].mode()[0])\n",
    "df['with_phd_1'] = df['with_phd_1'].fillna('N/A')\n",
    "df['no__of_years_in_uni_at_time_of_grant_1'] = df['no__of_years_in_uni_at_time_of_grant_1'].fillna('N/A')\n",
    "df['country_of_birth_1'] = df['country_of_birth_1'].fillna('N/A')\n"
   ]
  },
  {
   "cell_type": "code",
   "execution_count": 56,
   "id": "d556a002",
   "metadata": {},
   "outputs": [
    {
     "data": {
      "text/plain": [
       "country_of_birth_1\n",
       "Australia                 2530\n",
       "N/A                        666\n",
       "Great Britain              304\n",
       "Western Europe             158\n",
       "Asia Pacific               149\n",
       "North America              121\n",
       "Eastern Europe              60\n",
       "Middle East and Africa      40\n",
       "The Americas                32\n",
       "New Zealand                 31\n",
       "South Africa                22\n",
       "Name: count, dtype: int64"
      ]
     },
     "execution_count": 56,
     "metadata": {},
     "output_type": "execute_result"
    }
   ],
   "source": [
    "df['country_of_birth_1'].value_counts()"
   ]
  },
  {
   "cell_type": "code",
   "execution_count": 57,
   "id": "643255b8",
   "metadata": {},
   "outputs": [],
   "source": [
    "country_speaking_english = ['Australia', 'Great Britain', 'North America', 'New Zealand', 'South Africa', 'North America']\n",
    "\n",
    "is_eanglish_speaker = df['country_of_birth_1'].isin(country_speaking_english)\n",
    "df.loc[is_eanglish_speaker, 'home_language_1'] = df.loc[is_eanglish_speaker, 'home_language_1'].fillna('English')\n",
    "\n",
    "df['home_language_1'] = df['home_language_1'].fillna('Other')"
   ]
  },
  {
   "cell_type": "code",
   "execution_count": 58,
   "id": "97a95d06",
   "metadata": {},
   "outputs": [
    {
     "name": "stdout",
     "output_type": "stream",
     "text": [
      "<class 'pandas.core.frame.DataFrame'>\n",
      "RangeIndex: 4113 entries, 0 to 4112\n",
      "Data columns (total 69 columns):\n",
      " #   Column                                  Non-Null Count  Dtype  \n",
      "---  ------                                  --------------  -----  \n",
      " 0   grant_status                            4113 non-null   int64  \n",
      " 1   sponsor_code                            4113 non-null   object \n",
      " 2   grant_category_code                     4113 non-null   object \n",
      " 3   contract_value_band___see_note_a        4113 non-null   object \n",
      " 4   rfcd_code_1                             4113 non-null   float64\n",
      " 5   rfcd_percentage_1                       4113 non-null   float64\n",
      " 6   rfcd_code_2                             4113 non-null   float64\n",
      " 7   rfcd_percentage_2                       4113 non-null   float64\n",
      " 8   rfcd_code_3                             4113 non-null   float64\n",
      " 9   rfcd_percentage_3                       4113 non-null   float64\n",
      " 10  rfcd_code_4                             4113 non-null   float64\n",
      " 11  rfcd_percentage_4                       4113 non-null   float64\n",
      " 12  rfcd_code_5                             4113 non-null   float64\n",
      " 13  rfcd_percentage_5                       4113 non-null   float64\n",
      " 14  seo_code_1                              4113 non-null   float64\n",
      " 15  seo_percentage_1                        4113 non-null   float64\n",
      " 16  seo_code_2                              4113 non-null   float64\n",
      " 17  seo_percentage_2                        4113 non-null   float64\n",
      " 18  seo_code_3                              4113 non-null   float64\n",
      " 19  seo_percentage_3                        4113 non-null   float64\n",
      " 20  seo_code_4                              4113 non-null   float64\n",
      " 21  seo_percentage_4                        4113 non-null   float64\n",
      " 22  seo_code_5                              4113 non-null   float64\n",
      " 23  seo_percentage_5                        4113 non-null   float64\n",
      " 24  person_id_1                             4113 non-null   float64\n",
      " 25  role_1                                  4113 non-null   object \n",
      " 26  year_of_birth_1                         4113 non-null   float64\n",
      " 27  country_of_birth_1                      4113 non-null   object \n",
      " 28  home_language_1                         4113 non-null   object \n",
      " 29  dept_no__1                              4113 non-null   float64\n",
      " 30  faculty_no__1                           4113 non-null   float64\n",
      " 31  with_phd_1                              4113 non-null   object \n",
      " 32  no__of_years_in_uni_at_time_of_grant_1  4113 non-null   object \n",
      " 33  number_of_successful_grant_1            4113 non-null   float64\n",
      " 34  number_of_unsuccessful_grant_1          4113 non-null   float64\n",
      " 35  a__1                                    4113 non-null   float64\n",
      " 36  a_1                                     4113 non-null   float64\n",
      " 37  b_1                                     4113 non-null   float64\n",
      " 38  c_1                                     4113 non-null   float64\n",
      " 39  rfcd_code_1_zero                        4113 non-null   float64\n",
      " 40  rfcd_percentage_1_zero                  4113 non-null   float64\n",
      " 41  rfcd_code_2_zero                        4113 non-null   float64\n",
      " 42  rfcd_percentage_2_zero                  4113 non-null   float64\n",
      " 43  rfcd_code_3_zero                        4113 non-null   float64\n",
      " 44  rfcd_percentage_3_zero                  4113 non-null   float64\n",
      " 45  rfcd_code_4_zero                        4113 non-null   float64\n",
      " 46  rfcd_percentage_4_zero                  4113 non-null   float64\n",
      " 47  rfcd_code_5_zero                        4113 non-null   float64\n",
      " 48  rfcd_percentage_5_zero                  4113 non-null   float64\n",
      " 49  seo_code_1_zero                         4113 non-null   float64\n",
      " 50  seo_percentage_1_zero                   4113 non-null   float64\n",
      " 51  seo_code_2_zero                         4113 non-null   float64\n",
      " 52  seo_percentage_2_zero                   4113 non-null   float64\n",
      " 53  seo_code_3_zero                         4113 non-null   float64\n",
      " 54  seo_percentage_3_zero                   4113 non-null   float64\n",
      " 55  seo_code_4_zero                         4113 non-null   float64\n",
      " 56  seo_percentage_4_zero                   4113 non-null   float64\n",
      " 57  seo_code_5_zero                         4113 non-null   float64\n",
      " 58  seo_percentage_5_zero                   4113 non-null   float64\n",
      " 59  person_id_1_zero                        4113 non-null   float64\n",
      " 60  year_of_birth_1_zero                    4113 non-null   float64\n",
      " 61  dept_no__1_zero                         4113 non-null   float64\n",
      " 62  faculty_no__1_zero                      4113 non-null   float64\n",
      " 63  number_of_successful_grant_1_zero       4113 non-null   float64\n",
      " 64  number_of_unsuccessful_grant_1_zero     4113 non-null   float64\n",
      " 65  a__1_zero                               4113 non-null   float64\n",
      " 66  a_1_zero                                4113 non-null   float64\n",
      " 67  b_1_zero                                4113 non-null   float64\n",
      " 68  c_1_zero                                4113 non-null   float64\n",
      "dtypes: float64(60), int64(1), object(8)\n",
      "memory usage: 2.2+ MB\n"
     ]
    }
   ],
   "source": [
    "df.info()"
   ]
  },
  {
   "cell_type": "markdown",
   "id": "985f6e31",
   "metadata": {},
   "source": [
    "Всё, пропуски заполнены"
   ]
  },
  {
   "cell_type": "markdown",
   "id": "0456cf7c",
   "metadata": {},
   "source": [
    "Разделим фичи и целевую переменную"
   ]
  },
  {
   "cell_type": "code",
   "execution_count": 59,
   "id": "408d725d",
   "metadata": {},
   "outputs": [],
   "source": [
    "features = df.drop(['grant_status'], axis=1)\n",
    "target = df['grant_status']"
   ]
  },
  {
   "cell_type": "markdown",
   "id": "f2ec4037",
   "metadata": {},
   "source": [
    "Преобразуем категориальные признаки в количественные с помощью прямого кодирования"
   ]
  },
  {
   "cell_type": "code",
   "execution_count": 60,
   "id": "4800355a",
   "metadata": {},
   "outputs": [
    {
     "data": {
      "text/html": [
       "<div>\n",
       "<style scoped>\n",
       "    .dataframe tbody tr th:only-of-type {\n",
       "        vertical-align: middle;\n",
       "    }\n",
       "\n",
       "    .dataframe tbody tr th {\n",
       "        vertical-align: top;\n",
       "    }\n",
       "\n",
       "    .dataframe thead th {\n",
       "        text-align: right;\n",
       "    }\n",
       "</style>\n",
       "<table border=\"1\" class=\"dataframe\">\n",
       "  <thead>\n",
       "    <tr style=\"text-align: right;\">\n",
       "      <th></th>\n",
       "      <th>rfcd_code_1</th>\n",
       "      <th>rfcd_percentage_1</th>\n",
       "      <th>rfcd_code_2</th>\n",
       "      <th>rfcd_percentage_2</th>\n",
       "      <th>rfcd_code_3</th>\n",
       "      <th>rfcd_percentage_3</th>\n",
       "      <th>rfcd_code_4</th>\n",
       "      <th>rfcd_percentage_4</th>\n",
       "      <th>rfcd_code_5</th>\n",
       "      <th>rfcd_percentage_5</th>\n",
       "      <th>...</th>\n",
       "      <th>country_of_birth_1_South Africa</th>\n",
       "      <th>country_of_birth_1_The Americas</th>\n",
       "      <th>country_of_birth_1_Western Europe</th>\n",
       "      <th>home_language_1_Other</th>\n",
       "      <th>with_phd_1_Yes</th>\n",
       "      <th>no__of_years_in_uni_at_time_of_grant_1_&gt;5 to 10</th>\n",
       "      <th>no__of_years_in_uni_at_time_of_grant_1_&gt;=0 to 5</th>\n",
       "      <th>no__of_years_in_uni_at_time_of_grant_1_Less than 0</th>\n",
       "      <th>no__of_years_in_uni_at_time_of_grant_1_N/A</th>\n",
       "      <th>no__of_years_in_uni_at_time_of_grant_1_more than 15</th>\n",
       "    </tr>\n",
       "  </thead>\n",
       "  <tbody>\n",
       "    <tr>\n",
       "      <th>0</th>\n",
       "      <td>321024</td>\n",
       "      <td>50</td>\n",
       "      <td>321013</td>\n",
       "      <td>30</td>\n",
       "      <td>291502</td>\n",
       "      <td>20</td>\n",
       "      <td>0</td>\n",
       "      <td>0</td>\n",
       "      <td>0</td>\n",
       "      <td>0</td>\n",
       "      <td>...</td>\n",
       "      <td>0</td>\n",
       "      <td>0</td>\n",
       "      <td>0</td>\n",
       "      <td>1</td>\n",
       "      <td>1</td>\n",
       "      <td>0</td>\n",
       "      <td>0</td>\n",
       "      <td>0</td>\n",
       "      <td>0</td>\n",
       "      <td>0</td>\n",
       "    </tr>\n",
       "    <tr>\n",
       "      <th>1</th>\n",
       "      <td>300201</td>\n",
       "      <td>100</td>\n",
       "      <td>0</td>\n",
       "      <td>0</td>\n",
       "      <td>0</td>\n",
       "      <td>0</td>\n",
       "      <td>0</td>\n",
       "      <td>0</td>\n",
       "      <td>0</td>\n",
       "      <td>0</td>\n",
       "      <td>...</td>\n",
       "      <td>0</td>\n",
       "      <td>0</td>\n",
       "      <td>0</td>\n",
       "      <td>0</td>\n",
       "      <td>0</td>\n",
       "      <td>0</td>\n",
       "      <td>0</td>\n",
       "      <td>1</td>\n",
       "      <td>0</td>\n",
       "      <td>0</td>\n",
       "    </tr>\n",
       "    <tr>\n",
       "      <th>2</th>\n",
       "      <td>321013</td>\n",
       "      <td>100</td>\n",
       "      <td>0</td>\n",
       "      <td>0</td>\n",
       "      <td>0</td>\n",
       "      <td>0</td>\n",
       "      <td>0</td>\n",
       "      <td>0</td>\n",
       "      <td>0</td>\n",
       "      <td>0</td>\n",
       "      <td>...</td>\n",
       "      <td>0</td>\n",
       "      <td>0</td>\n",
       "      <td>0</td>\n",
       "      <td>0</td>\n",
       "      <td>1</td>\n",
       "      <td>1</td>\n",
       "      <td>0</td>\n",
       "      <td>0</td>\n",
       "      <td>0</td>\n",
       "      <td>0</td>\n",
       "    </tr>\n",
       "    <tr>\n",
       "      <th>3</th>\n",
       "      <td>321103</td>\n",
       "      <td>30</td>\n",
       "      <td>321105</td>\n",
       "      <td>40</td>\n",
       "      <td>321204</td>\n",
       "      <td>30</td>\n",
       "      <td>0</td>\n",
       "      <td>0</td>\n",
       "      <td>0</td>\n",
       "      <td>0</td>\n",
       "      <td>...</td>\n",
       "      <td>0</td>\n",
       "      <td>0</td>\n",
       "      <td>0</td>\n",
       "      <td>0</td>\n",
       "      <td>0</td>\n",
       "      <td>0</td>\n",
       "      <td>0</td>\n",
       "      <td>1</td>\n",
       "      <td>0</td>\n",
       "      <td>0</td>\n",
       "    </tr>\n",
       "    <tr>\n",
       "      <th>4</th>\n",
       "      <td>270603</td>\n",
       "      <td>60</td>\n",
       "      <td>321205</td>\n",
       "      <td>30</td>\n",
       "      <td>320603</td>\n",
       "      <td>10</td>\n",
       "      <td>0</td>\n",
       "      <td>0</td>\n",
       "      <td>0</td>\n",
       "      <td>0</td>\n",
       "      <td>...</td>\n",
       "      <td>0</td>\n",
       "      <td>0</td>\n",
       "      <td>0</td>\n",
       "      <td>0</td>\n",
       "      <td>1</td>\n",
       "      <td>1</td>\n",
       "      <td>0</td>\n",
       "      <td>0</td>\n",
       "      <td>0</td>\n",
       "      <td>0</td>\n",
       "    </tr>\n",
       "  </tbody>\n",
       "</table>\n",
       "<p>5 rows × 335 columns</p>\n",
       "</div>"
      ],
      "text/plain": [
       "   rfcd_code_1  rfcd_percentage_1  rfcd_code_2  rfcd_percentage_2  \\\n",
       "0       321024                 50       321013                 30   \n",
       "1       300201                100            0                  0   \n",
       "2       321013                100            0                  0   \n",
       "3       321103                 30       321105                 40   \n",
       "4       270603                 60       321205                 30   \n",
       "\n",
       "   rfcd_code_3  rfcd_percentage_3  rfcd_code_4  rfcd_percentage_4  \\\n",
       "0       291502                 20            0                  0   \n",
       "1            0                  0            0                  0   \n",
       "2            0                  0            0                  0   \n",
       "3       321204                 30            0                  0   \n",
       "4       320603                 10            0                  0   \n",
       "\n",
       "   rfcd_code_5  rfcd_percentage_5  ...  country_of_birth_1_South Africa  \\\n",
       "0            0                  0  ...                                0   \n",
       "1            0                  0  ...                                0   \n",
       "2            0                  0  ...                                0   \n",
       "3            0                  0  ...                                0   \n",
       "4            0                  0  ...                                0   \n",
       "\n",
       "   country_of_birth_1_The Americas  country_of_birth_1_Western Europe  \\\n",
       "0                                0                                  0   \n",
       "1                                0                                  0   \n",
       "2                                0                                  0   \n",
       "3                                0                                  0   \n",
       "4                                0                                  0   \n",
       "\n",
       "   home_language_1_Other  with_phd_1_Yes   \\\n",
       "0                      1                1   \n",
       "1                      0                0   \n",
       "2                      0                1   \n",
       "3                      0                0   \n",
       "4                      0                1   \n",
       "\n",
       "   no__of_years_in_uni_at_time_of_grant_1_>5 to 10  \\\n",
       "0                                                0   \n",
       "1                                                0   \n",
       "2                                                1   \n",
       "3                                                0   \n",
       "4                                                1   \n",
       "\n",
       "   no__of_years_in_uni_at_time_of_grant_1_>=0 to 5  \\\n",
       "0                                                0   \n",
       "1                                                0   \n",
       "2                                                0   \n",
       "3                                                0   \n",
       "4                                                0   \n",
       "\n",
       "   no__of_years_in_uni_at_time_of_grant_1_Less than 0  \\\n",
       "0                                                  0    \n",
       "1                                                  1    \n",
       "2                                                  0    \n",
       "3                                                  1    \n",
       "4                                                  0    \n",
       "\n",
       "   no__of_years_in_uni_at_time_of_grant_1_N/A  \\\n",
       "0                                           0   \n",
       "1                                           0   \n",
       "2                                           0   \n",
       "3                                           0   \n",
       "4                                           0   \n",
       "\n",
       "   no__of_years_in_uni_at_time_of_grant_1_more than 15  \n",
       "0                                                  0    \n",
       "1                                                  0    \n",
       "2                                                  0    \n",
       "3                                                  0    \n",
       "4                                                  0    \n",
       "\n",
       "[5 rows x 335 columns]"
      ]
     },
     "execution_count": 60,
     "metadata": {},
     "output_type": "execute_result"
    }
   ],
   "source": [
    "features_ohe = pd.get_dummies(features, drop_first=True).astype(int)\n",
    "features_ohe.head()"
   ]
  },
  {
   "cell_type": "markdown",
   "id": "6350d0db",
   "metadata": {},
   "source": [
    "Разделим данные на тренировочную и тестовую часть"
   ]
  },
  {
   "cell_type": "code",
   "execution_count": 61,
   "id": "347c25e3",
   "metadata": {},
   "outputs": [],
   "source": [
    "features_train, features_val, target_train, target_val = train_test_split(features_ohe, target, test_size=0.25, random_state=42)"
   ]
  },
  {
   "cell_type": "markdown",
   "id": "443aef91",
   "metadata": {},
   "source": [
    "Используем масштабирование "
   ]
  },
  {
   "cell_type": "code",
   "execution_count": 62,
   "id": "16a2e0b4",
   "metadata": {},
   "outputs": [],
   "source": [
    "scaler = StandardScaler()\n",
    "scaler.fit(features_train)\n",
    "features_train_sc = scaler.transform(features_train)\n",
    "features_val_sc = scaler.transform(features_val)"
   ]
  },
  {
   "cell_type": "markdown",
   "id": "61b2f66b",
   "metadata": {},
   "source": [
    "Проверим сбалансированность целевой переменной"
   ]
  },
  {
   "cell_type": "code",
   "execution_count": 63,
   "id": "56b53839",
   "metadata": {},
   "outputs": [
    {
     "data": {
      "text/plain": [
       "grant_status\n",
       "0    3259\n",
       "1     854\n",
       "Name: count, dtype: int64"
      ]
     },
     "execution_count": 63,
     "metadata": {},
     "output_type": "execute_result"
    }
   ],
   "source": [
    "df['grant_status'].value_counts()"
   ]
  },
  {
   "cell_type": "markdown",
   "id": "01c0f421",
   "metadata": {},
   "source": [
    "Вижу, что класс 0 очень сильно преобладает над классом 1, при обучении модели буду использовать __class_weight='balanced'__"
   ]
  },
  {
   "cell_type": "code",
   "execution_count": 64,
   "id": "b4e86b9c",
   "metadata": {},
   "outputs": [
    {
     "data": {
      "text/plain": [
       "0.8367610802132905"
      ]
     },
     "execution_count": 64,
     "metadata": {},
     "output_type": "execute_result"
    }
   ],
   "source": [
    "model = LogisticRegressionCV(solver='liblinear', random_state=12, class_weight='balanced', cv=5)\n",
    "model.fit(features_train_sc, target_train)\n",
    "roc_auc_score(target_val, model.predict_proba(features_val_sc)[:, 1])"
   ]
  },
  {
   "cell_type": "code",
   "execution_count": 65,
   "id": "21c688d2",
   "metadata": {},
   "outputs": [
    {
     "data": {
      "text/html": [
       "<div>\n",
       "<style scoped>\n",
       "    .dataframe tbody tr th:only-of-type {\n",
       "        vertical-align: middle;\n",
       "    }\n",
       "\n",
       "    .dataframe tbody tr th {\n",
       "        vertical-align: top;\n",
       "    }\n",
       "\n",
       "    .dataframe thead th {\n",
       "        text-align: right;\n",
       "    }\n",
       "</style>\n",
       "<table border=\"1\" class=\"dataframe\">\n",
       "  <thead>\n",
       "    <tr style=\"text-align: right;\">\n",
       "      <th></th>\n",
       "      <th>feature</th>\n",
       "      <th>importance</th>\n",
       "    </tr>\n",
       "  </thead>\n",
       "  <tbody>\n",
       "    <tr>\n",
       "      <th>25</th>\n",
       "      <td>number_of_unsuccessful_grant_1</td>\n",
       "      <td>0.666701</td>\n",
       "    </tr>\n",
       "    <tr>\n",
       "      <th>55</th>\n",
       "      <td>number_of_unsuccessful_grant_1_zero</td>\n",
       "      <td>0.655464</td>\n",
       "    </tr>\n",
       "    <tr>\n",
       "      <th>299</th>\n",
       "      <td>contract_value_band___see_note_a_D</td>\n",
       "      <td>0.508215</td>\n",
       "    </tr>\n",
       "    <tr>\n",
       "      <th>24</th>\n",
       "      <td>number_of_successful_grant_1</td>\n",
       "      <td>0.479549</td>\n",
       "    </tr>\n",
       "    <tr>\n",
       "      <th>54</th>\n",
       "      <td>number_of_successful_grant_1_zero</td>\n",
       "      <td>0.469157</td>\n",
       "    </tr>\n",
       "    <tr>\n",
       "      <th>300</th>\n",
       "      <td>contract_value_band___see_note_a_E</td>\n",
       "      <td>0.446326</td>\n",
       "    </tr>\n",
       "    <tr>\n",
       "      <th>297</th>\n",
       "      <td>contract_value_band___see_note_a_B</td>\n",
       "      <td>0.432043</td>\n",
       "    </tr>\n",
       "    <tr>\n",
       "      <th>244</th>\n",
       "      <td>sponsor_code_4D</td>\n",
       "      <td>0.411098</td>\n",
       "    </tr>\n",
       "    <tr>\n",
       "      <th>298</th>\n",
       "      <td>contract_value_band___see_note_a_C</td>\n",
       "      <td>0.374524</td>\n",
       "    </tr>\n",
       "    <tr>\n",
       "      <th>302</th>\n",
       "      <td>contract_value_band___see_note_a_G</td>\n",
       "      <td>0.330002</td>\n",
       "    </tr>\n",
       "  </tbody>\n",
       "</table>\n",
       "</div>"
      ],
      "text/plain": [
       "                                 feature  importance\n",
       "25        number_of_unsuccessful_grant_1    0.666701\n",
       "55   number_of_unsuccessful_grant_1_zero    0.655464\n",
       "299  contract_value_band___see_note_a_D     0.508215\n",
       "24          number_of_successful_grant_1    0.479549\n",
       "54     number_of_successful_grant_1_zero    0.469157\n",
       "300  contract_value_band___see_note_a_E     0.446326\n",
       "297  contract_value_band___see_note_a_B     0.432043\n",
       "244                      sponsor_code_4D    0.411098\n",
       "298  contract_value_band___see_note_a_C     0.374524\n",
       "302  contract_value_band___see_note_a_G     0.330002"
      ]
     },
     "execution_count": 65,
     "metadata": {},
     "output_type": "execute_result"
    }
   ],
   "source": [
    "pd.DataFrame(\n",
    "    zip(list(features_ohe.columns), list(abs(model.coef_[0]))), \n",
    "    columns=['feature', 'importance']\n",
    ").sort_values(by=['importance'], ascending=False).head(10)"
   ]
  },
  {
   "cell_type": "code",
   "execution_count": 66,
   "id": "333b74ef",
   "metadata": {},
   "outputs": [
    {
     "name": "stdout",
     "output_type": "stream",
     "text": [
      "Лучшие параметры:  {'max_depth': None, 'min_samples_leaf': 1, 'min_samples_split': 10, 'n_estimators': 100}\n"
     ]
    }
   ],
   "source": [
    "model_RF = RandomForestClassifier(random_state=42)\n",
    "\n",
    "grid_param = {\n",
    "    'n_estimators': [10, 50, 100, 200],\n",
    "    'max_depth': [None, 2, 5, 10, 20],\n",
    "    'min_samples_split': [2, 5, 10],\n",
    "    'min_samples_leaf': [1, 2, 4],\n",
    "}\n",
    "\n",
    "grid_search = GridSearchCV(\n",
    "    estimator=model_RF,\n",
    "    param_grid=grid_param,\n",
    "    cv=5,\n",
    "    n_jobs=-1,\n",
    ")\n",
    "\n",
    "grid_search.fit(features_train_sc, target_train)\n",
    "print(\"Лучшие параметры: \", grid_search.best_params_)"
   ]
  },
  {
   "cell_type": "markdown",
   "id": "22d51e6e",
   "metadata": {},
   "source": [
    "Обучим модель случайного леса на наших лучших гиперпараметрах"
   ]
  },
  {
   "cell_type": "code",
   "execution_count": 67,
   "id": "2f9e77d5",
   "metadata": {},
   "outputs": [
    {
     "data": {
      "text/plain": [
       "0.8801989564818531"
      ]
     },
     "execution_count": 67,
     "metadata": {},
     "output_type": "execute_result"
    }
   ],
   "source": [
    "best_params = grid_search.best_params_\n",
    "\n",
    "best_RF_model = RandomForestClassifier(**best_params, random_state=42)\n",
    "best_RF_model.fit(features_train_sc, target_train)\n",
    "\n",
    "roc_auc_score(target_val, best_RF_model.predict_proba(features_val_sc)[:, 1])"
   ]
  },
  {
   "cell_type": "code",
   "execution_count": 68,
   "id": "301981f9",
   "metadata": {},
   "outputs": [
    {
     "data": {
      "text/html": [
       "<div>\n",
       "<style scoped>\n",
       "    .dataframe tbody tr th:only-of-type {\n",
       "        vertical-align: middle;\n",
       "    }\n",
       "\n",
       "    .dataframe tbody tr th {\n",
       "        vertical-align: top;\n",
       "    }\n",
       "\n",
       "    .dataframe thead th {\n",
       "        text-align: right;\n",
       "    }\n",
       "</style>\n",
       "<table border=\"1\" class=\"dataframe\">\n",
       "  <thead>\n",
       "    <tr style=\"text-align: right;\">\n",
       "      <th></th>\n",
       "      <th>feature</th>\n",
       "      <th>importance</th>\n",
       "    </tr>\n",
       "  </thead>\n",
       "  <tbody>\n",
       "    <tr>\n",
       "      <th>25</th>\n",
       "      <td>number_of_unsuccessful_grant_1</td>\n",
       "      <td>0.110003</td>\n",
       "    </tr>\n",
       "    <tr>\n",
       "      <th>55</th>\n",
       "      <td>number_of_unsuccessful_grant_1_zero</td>\n",
       "      <td>0.081312</td>\n",
       "    </tr>\n",
       "    <tr>\n",
       "      <th>54</th>\n",
       "      <td>number_of_successful_grant_1_zero</td>\n",
       "      <td>0.039046</td>\n",
       "    </tr>\n",
       "    <tr>\n",
       "      <th>24</th>\n",
       "      <td>number_of_successful_grant_1</td>\n",
       "      <td>0.035900</td>\n",
       "    </tr>\n",
       "    <tr>\n",
       "      <th>50</th>\n",
       "      <td>person_id_1_zero</td>\n",
       "      <td>0.023559</td>\n",
       "    </tr>\n",
       "    <tr>\n",
       "      <th>0</th>\n",
       "      <td>rfcd_code_1</td>\n",
       "      <td>0.021719</td>\n",
       "    </tr>\n",
       "    <tr>\n",
       "      <th>30</th>\n",
       "      <td>rfcd_code_1_zero</td>\n",
       "      <td>0.021623</td>\n",
       "    </tr>\n",
       "    <tr>\n",
       "      <th>40</th>\n",
       "      <td>seo_code_1_zero</td>\n",
       "      <td>0.021458</td>\n",
       "    </tr>\n",
       "    <tr>\n",
       "      <th>10</th>\n",
       "      <td>seo_code_1</td>\n",
       "      <td>0.021353</td>\n",
       "    </tr>\n",
       "    <tr>\n",
       "      <th>52</th>\n",
       "      <td>dept_no__1_zero</td>\n",
       "      <td>0.020157</td>\n",
       "    </tr>\n",
       "  </tbody>\n",
       "</table>\n",
       "</div>"
      ],
      "text/plain": [
       "                                feature  importance\n",
       "25       number_of_unsuccessful_grant_1    0.110003\n",
       "55  number_of_unsuccessful_grant_1_zero    0.081312\n",
       "54    number_of_successful_grant_1_zero    0.039046\n",
       "24         number_of_successful_grant_1    0.035900\n",
       "50                     person_id_1_zero    0.023559\n",
       "0                           rfcd_code_1    0.021719\n",
       "30                     rfcd_code_1_zero    0.021623\n",
       "40                      seo_code_1_zero    0.021458\n",
       "10                           seo_code_1    0.021353\n",
       "52                      dept_no__1_zero    0.020157"
      ]
     },
     "execution_count": 68,
     "metadata": {},
     "output_type": "execute_result"
    }
   ],
   "source": [
    "importances = best_RF_model.feature_importances_\n",
    "\n",
    "feature_importances_df = pd.DataFrame({\n",
    "    'feature': features_ohe.columns,\n",
    "    'importance': importances\n",
    "}).sort_values(by='importance', ascending=False)\n",
    "\n",
    "feature_importances_df.head(10)\n"
   ]
  },
  {
   "cell_type": "markdown",
   "id": "881bc93f",
   "metadata": {},
   "source": [
    "__Выводы:__\n",
    "\n",
    "Для логистической регрессии ROC=0.8367610802132905, самыми важными признаками оказались __number_of_unsuccessful_grant_1__, __number_of_unsuccessful_grant_1_zero__ и __contract_value_band_see_note_a_D__\n",
    "\n",
    "Для случайного леса ROC=0.8801989564818531, самыми важными признаками оказались __number_of_unsuccessful_grant_1__, __number_of_unsuccessful_grant_1_zero__ и __number_of_successful_grant_1_zero__\n",
    "\n",
    "Везде вывел топ-3 признака"
   ]
  }
 ],
 "metadata": {
  "kernelspec": {
   "display_name": ".venv",
   "language": "python",
   "name": "python3"
  },
  "language_info": {
   "codemirror_mode": {
    "name": "ipython",
    "version": 3
   },
   "file_extension": ".py",
   "mimetype": "text/x-python",
   "name": "python",
   "nbconvert_exporter": "python",
   "pygments_lexer": "ipython3",
   "version": "3.13.4"
  }
 },
 "nbformat": 4,
 "nbformat_minor": 5
}
