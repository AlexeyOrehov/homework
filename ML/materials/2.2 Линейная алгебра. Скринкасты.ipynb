{
 "cells": [
  {
   "cell_type": "markdown",
   "metadata": {},
   "source": [
    "## Векторы"
   ]
  },
  {
   "cell_type": "code",
   "execution_count": 1,
   "metadata": {},
   "outputs": [],
   "source": [
    "import numpy as np\n",
    "import pandas as pd\n",
    "import matplotlib.pyplot as plt\n",
    "from scipy.spatial import distance\n",
    "\n",
    "from sklearn.model_selection import train_test_split\n",
    "from sklearn.datasets import load_diabetes\n",
    "from sklearn.metrics import mean_absolute_error, mean_squared_error\n",
    "from sklearn.linear_model import LinearRegression"
   ]
  },
  {
   "cell_type": "markdown",
   "metadata": {},
   "source": [
    "#### Введение"
   ]
  },
  {
   "cell_type": "markdown",
   "metadata": {},
   "source": [
    "Создадим список из двух чисел"
   ]
  },
  {
   "cell_type": "code",
   "execution_count": 2,
   "metadata": {},
   "outputs": [
    {
     "name": "stdout",
     "output_type": "stream",
     "text": [
      "[2, 3]\n"
     ]
    }
   ],
   "source": [
    "numbers1 = [2, 3] # Список Python\n",
    "print(numbers1) "
   ]
  },
  {
   "cell_type": "markdown",
   "metadata": {},
   "source": [
    "Преобразуем список в вектор"
   ]
  },
  {
   "cell_type": "code",
   "execution_count": 3,
   "metadata": {},
   "outputs": [
    {
     "name": "stdout",
     "output_type": "stream",
     "text": [
      "[2 3]\n"
     ]
    }
   ],
   "source": [
    "vector1 = np.array(numbers1) # Массив NumPy\n",
    "print(vector1) "
   ]
  },
  {
   "cell_type": "markdown",
   "metadata": {},
   "source": [
    "Создадим другой вектор без промежуточной переменной:"
   ]
  },
  {
   "cell_type": "code",
   "execution_count": 4,
   "metadata": {},
   "outputs": [
    {
     "name": "stdout",
     "output_type": "stream",
     "text": [
      "[6 2]\n"
     ]
    }
   ],
   "source": [
    "vector2 = np.array([6, 2])\n",
    "print(vector2) "
   ]
  },
  {
   "cell_type": "markdown",
   "metadata": {},
   "source": [
    "Преобразуем этот вектор в список:"
   ]
  },
  {
   "cell_type": "code",
   "execution_count": 5,
   "metadata": {},
   "outputs": [
    {
     "name": "stdout",
     "output_type": "stream",
     "text": [
      "[np.int64(6), np.int64(2)]\n"
     ]
    }
   ],
   "source": [
    "numbers2 = list(vector2) # Список из вектора\n",
    "print(numbers2) "
   ]
  },
  {
   "cell_type": "markdown",
   "metadata": {},
   "source": [
    "Столбец структуры DataFrame в pandas преобразуется в вектор NumPy атрибутом values:"
   ]
  },
  {
   "cell_type": "code",
   "execution_count": 6,
   "metadata": {},
   "outputs": [
    {
     "data": {
      "text/html": [
       "<div>\n",
       "<style scoped>\n",
       "    .dataframe tbody tr th:only-of-type {\n",
       "        vertical-align: middle;\n",
       "    }\n",
       "\n",
       "    .dataframe tbody tr th {\n",
       "        vertical-align: top;\n",
       "    }\n",
       "\n",
       "    .dataframe thead th {\n",
       "        text-align: right;\n",
       "    }\n",
       "</style>\n",
       "<table border=\"1\" class=\"dataframe\">\n",
       "  <thead>\n",
       "    <tr style=\"text-align: right;\">\n",
       "      <th></th>\n",
       "      <th>numbers</th>\n",
       "    </tr>\n",
       "  </thead>\n",
       "  <tbody>\n",
       "    <tr>\n",
       "      <th>0</th>\n",
       "      <td>1</td>\n",
       "    </tr>\n",
       "    <tr>\n",
       "      <th>1</th>\n",
       "      <td>7</td>\n",
       "    </tr>\n",
       "    <tr>\n",
       "      <th>2</th>\n",
       "      <td>3</td>\n",
       "    </tr>\n",
       "  </tbody>\n",
       "</table>\n",
       "</div>"
      ],
      "text/plain": [
       "   numbers\n",
       "0        1\n",
       "1        7\n",
       "2        3"
      ]
     },
     "metadata": {},
     "output_type": "display_data"
    },
    {
     "name": "stdout",
     "output_type": "stream",
     "text": [
      "[1 7 3]\n"
     ]
    }
   ],
   "source": [
    "data = pd.DataFrame([1, 7, 3], columns=['numbers'])\n",
    "display(data)\n",
    "print(data['numbers'].values) "
   ]
  },
  {
   "cell_type": "markdown",
   "metadata": {},
   "source": [
    "Oпределим размер вектора, то есть количество элементов в нём"
   ]
  },
  {
   "cell_type": "code",
   "execution_count": 7,
   "metadata": {},
   "outputs": [
    {
     "name": "stdout",
     "output_type": "stream",
     "text": [
      "2\n"
     ]
    }
   ],
   "source": [
    "print(len(vector2)) "
   ]
  },
  {
   "cell_type": "markdown",
   "metadata": {},
   "source": [
    "Визуализируем векторы, чтобы изучить списки чисел на координатной плоскости."
   ]
  },
  {
   "cell_type": "markdown",
   "metadata": {},
   "source": [
    "Документация по визуализации векторов https://matplotlib.org/stable/api/_as_gen/matplotlib.pyplot.arrow.html"
   ]
  },
  {
   "cell_type": "code",
   "execution_count": 8,
   "metadata": {},
   "outputs": [
    {
     "data": {
      "image/png": "[encoded data removed]",
      "text/plain": [
       "<Figure size 700x700 with 1 Axes>"
      ]
     },
     "metadata": {},
     "output_type": "display_data"
    }
   ],
   "source": [
    "plt.figure(figsize=(7, 7))\n",
    "plt.axis([0, 7, 0, 7])\n",
    "plt.arrow(0, 0, vector1[0], vector1[1], head_width=0.3,\n",
    "          length_includes_head=\"True\", color='b')\n",
    "plt.arrow(0, 0, vector2[0], vector2[1], head_width=0.3,\n",
    "          length_includes_head=\"True\", color='g')\n",
    "plt.plot(0, 0, 'ro') # толстая красная точка в начале координат\n",
    "plt.grid(True)\n",
    "plt.show() "
   ]
  },
  {
   "cell_type": "markdown",
   "metadata": {},
   "source": [
    "#### Сложение и вычитание"
   ]
  },
  {
   "cell_type": "markdown",
   "metadata": {},
   "source": [
    "К вектору vector1 прибавим vector2"
   ]
  },
  {
   "cell_type": "code",
   "execution_count": 9,
   "metadata": {},
   "outputs": [
    {
     "name": "stdout",
     "output_type": "stream",
     "text": [
      "[8 5]\n"
     ]
    }
   ],
   "source": [
    "sum_of_vectors = vector1 + vector2\n",
    "print(sum_of_vectors) "
   ]
  },
  {
   "cell_type": "markdown",
   "metadata": {},
   "source": [
    "Из вектора vector2 вычтем vector1:\n"
   ]
  },
  {
   "cell_type": "code",
   "execution_count": 10,
   "metadata": {},
   "outputs": [
    {
     "name": "stdout",
     "output_type": "stream",
     "text": [
      "[ 4 -1]\n"
     ]
    }
   ],
   "source": [
    "subtraction = vector2 - vector1\n",
    "print(subtraction) "
   ]
  },
  {
   "cell_type": "markdown",
   "metadata": {},
   "source": [
    "Изобразим эти векторы стрелками на плоскости"
   ]
  },
  {
   "cell_type": "markdown",
   "metadata": {},
   "source": [
    "#### Умножение на число"
   ]
  },
  {
   "cell_type": "markdown",
   "metadata": {},
   "source": [
    "Умножим вектор vector1 на положительное число:"
   ]
  },
  {
   "cell_type": "code",
   "execution_count": 11,
   "metadata": {},
   "outputs": [
    {
     "name": "stdout",
     "output_type": "stream",
     "text": [
      "[4 6]\n"
     ]
    }
   ],
   "source": [
    "vector3 = 2 * vector1\n",
    "print(vector3) "
   ]
  },
  {
   "cell_type": "markdown",
   "metadata": {},
   "source": [
    "А теперь умножим на отрицательное:"
   ]
  },
  {
   "cell_type": "code",
   "execution_count": 12,
   "metadata": {},
   "outputs": [
    {
     "name": "stdout",
     "output_type": "stream",
     "text": [
      "[-2 -3]\n"
     ]
    }
   ],
   "source": [
    "vector4 = -1 * vector1\n",
    "print(vector4) "
   ]
  },
  {
   "cell_type": "markdown",
   "metadata": {},
   "source": [
    "При умножении на положительное число векторы на плоскости сохраняют направление, но стрелки становятся длиннее или короче. При умножении на отрицательное  —  направление меняется на противоположное."
   ]
  },
  {
   "cell_type": "code",
   "execution_count": 13,
   "metadata": {},
   "outputs": [
    {
     "data": {
      "image/png": "[encoded data removed]",
      "text/plain": [
       "<Figure size 720x700 with 1 Axes>"
      ]
     },
     "metadata": {},
     "output_type": "display_data"
    }
   ],
   "source": [
    "plt.figure(figsize=(7.2, 7))\n",
    "plt.axis([-4, 6, -4, 6])\n",
    "arrow1 = plt.arrow(0, 0, vector1[0], vector1[1],\n",
    "               head_width=0.3, length_includes_head=\"True\", color='b')\n",
    "arrow3 = plt.arrow(0, 0, vector3[0], vector3[1],\n",
    "               head_width=0.3, length_includes_head=\"True\", color='g')\n",
    "arrow4 = plt.arrow(0, 0, vector4[0], vector4[1],\n",
    "               head_width=0.3, length_includes_head=\"True\", color='m')\n",
    "plt.plot(0, 0, 'ro')\n",
    "plt.legend([arrow1, arrow3, arrow4], ['vector1', 'vector3', 'vector4'], loc='upper left')\n",
    "plt.grid(True)\n",
    "plt.show() "
   ]
  },
  {
   "cell_type": "markdown",
   "metadata": {},
   "source": [
    "#### Среднее векторов"
   ]
  },
  {
   "cell_type": "markdown",
   "metadata": {},
   "source": [
    "Получим среднее для векторов vector1 и vector2"
   ]
  },
  {
   "cell_type": "code",
   "execution_count": 14,
   "metadata": {},
   "outputs": [
    {
     "name": "stdout",
     "output_type": "stream",
     "text": [
      "[4.  2.5]\n"
     ]
    }
   ],
   "source": [
    "vector_mean = .5*(vector1+vector2)\n",
    "print(vector_mean) "
   ]
  },
  {
   "cell_type": "markdown",
   "metadata": {},
   "source": [
    "Среднее значение мы назвали vector_mean. Первая координата нового вектора — это среднее значение первых координат векторов vector1 и vector2, а вторая — среднее вторых координат."
   ]
  },
  {
   "cell_type": "code",
   "execution_count": 15,
   "metadata": {},
   "outputs": [
    {
     "data": {
      "image/png": "[encoded data removed]",
      "text/plain": [
       "<Figure size 700x600 with 1 Axes>"
      ]
     },
     "metadata": {},
     "output_type": "display_data"
    }
   ],
   "source": [
    "plt.figure(figsize=(7, 6))\n",
    "plt.axis([0, 8.4, -1, 6])\n",
    "arrow1 = plt.arrow(0, 0, vector1[0], vector1[1],\n",
    "                   head_width=0.3, length_includes_head=\"True\", color='b')\n",
    "arrow2 = plt.arrow(0, 0, vector2[0], vector2[1],\n",
    "                   head_width=0.3, length_includes_head=\"True\", color='g')\n",
    "arrow_sum = plt.arrow(0, 0, sum_of_vectors[0], sum_of_vectors[1],\n",
    "                   head_width=0.3, length_includes_head=\"True\", color='r')\n",
    "arrow_mean = plt.arrow(0, 0, vector_mean[0], vector_mean[1],\n",
    "                   head_width=0.3, length_includes_head=\"True\", color='m')\n",
    "plt.legend([arrow1, arrow2, arrow_sum, arrow_mean], ['vector1', 'vector2', 'sum_of_vectors', 'vector_mean'], loc='upper left')\n",
    "plt.grid(True)\n",
    "plt.show() "
   ]
  },
  {
   "cell_type": "markdown",
   "metadata": {},
   "source": [
    "#### Векторизованные функции"
   ]
  },
  {
   "cell_type": "markdown",
   "metadata": {},
   "source": [
    "_Поэлементное перемножение и деление_  \n",
    "Применив функцию np.array, после умножения и деления двух массивов одного размера получим новый вектор такого же размера"
   ]
  },
  {
   "cell_type": "code",
   "execution_count": 16,
   "metadata": {},
   "outputs": [
    {
     "name": "stdout",
     "output_type": "stream",
     "text": [
      "Произведение двух массивов:  [  2  -8  18 -32]\n",
      "Частное двух массивов:  [ 2. -2.  2. -2.]\n"
     ]
    }
   ],
   "source": [
    "array1 = np.array([2, -4, 6, -8])\n",
    "array2 = np.array([1, 2, 3, 4])\n",
    "array_mult = array1 * array2\n",
    "array_div = array1 / array2\n",
    "print(\"Произведение двух массивов: \", array_mult)\n",
    "print(\"Частное двух массивов: \", array_div) "
   ]
  },
  {
   "cell_type": "markdown",
   "metadata": {},
   "source": [
    "_Операции с массивом и числом_  \n",
    "Если арифметические операции производятся над массивом и отдельным числом, то действие применяется к каждому элементу массива. И снова образуется массив такого же размера. "
   ]
  },
  {
   "cell_type": "code",
   "execution_count": 17,
   "metadata": {},
   "outputs": [
    {
     "name": "stdout",
     "output_type": "stream",
     "text": [
      "Сумма:  [11 12 13 14]\n",
      "Разность:  [-9 -8 -7 -6]\n",
      "Частное массива и числа:  [0.1 0.2 0.3 0.4]\n"
     ]
    }
   ],
   "source": [
    "array2_plus_10 = array2 + 10\n",
    "array2_minus_10 = array2 - 10\n",
    "array2_div_10 = array2 / 10\n",
    "print(\"Сумма: \", array2_plus_10) \n",
    "print(\"Разность: \", array2_minus_10)\n",
    "print(\"Частное массива и числа: \", array2_div_10) "
   ]
  },
  {
   "cell_type": "markdown",
   "metadata": {},
   "source": [
    "_Поэлементные функции_  \n",
    "К массиву также поэлементно применимы и стандартные математические функции, например, возведение в степень или логарифмы. "
   ]
  },
  {
   "cell_type": "code",
   "execution_count": 18,
   "metadata": {},
   "outputs": [
    {
     "name": "stdout",
     "output_type": "stream",
     "text": [
      "[ 0  1  4  9 16]\n"
     ]
    }
   ],
   "source": [
    "numbers_from_0 =  np.array([0, 1, 2, 3, 4])\n",
    "squares = numbers_from_0**2\n",
    "print(squares) "
   ]
  },
  {
   "cell_type": "markdown",
   "metadata": {},
   "source": [
    "#### Векторизация метрик"
   ]
  },
  {
   "cell_type": "markdown",
   "metadata": {},
   "source": [
    "В переменной target сохраним набор фактических значений, а в predictions — предсказанных. Оба набора типа np.array."
   ]
  },
  {
   "cell_type": "code",
   "execution_count": 19,
   "metadata": {},
   "outputs": [],
   "source": [
    "target = np.array([0.9, 1.2, 1.4, 1.5, 1.9, 2.0])\n",
    "predictions = np.array([1.0, 1.2, 1.4, 1.6, 1.8, 2.0]) "
   ]
  },
  {
   "cell_type": "markdown",
   "metadata": {},
   "source": [
    "Рассчитаем MSE"
   ]
  },
  {
   "cell_type": "code",
   "execution_count": 20,
   "metadata": {},
   "outputs": [
    {
     "data": {
      "text/plain": [
       "np.float64(0.0049999999999999975)"
      ]
     },
     "execution_count": 20,
     "metadata": {},
     "output_type": "execute_result"
    }
   ],
   "source": [
    "((target - predictions) ** 2).mean()"
   ]
  },
  {
   "cell_type": "code",
   "execution_count": 21,
   "metadata": {},
   "outputs": [
    {
     "data": {
      "text/plain": [
       "0.0049999999999999975"
      ]
     },
     "execution_count": 21,
     "metadata": {},
     "output_type": "execute_result"
    }
   ],
   "source": [
    "mean_squared_error(predictions, target)"
   ]
  },
  {
   "cell_type": "markdown",
   "metadata": {},
   "source": [
    "#### Скалярное произведение "
   ]
  },
  {
   "cell_type": "markdown",
   "metadata": {},
   "source": [
    "Вычислим скалярное произведение двух векторов по определению"
   ]
  },
  {
   "cell_type": "code",
   "execution_count": 22,
   "metadata": {},
   "outputs": [
    {
     "name": "stdout",
     "output_type": "stream",
     "text": [
      "442\n"
     ]
    }
   ],
   "source": [
    "price = np.array([89, 35, 159])\n",
    "amount = np.array([2, 3, 1])\n",
    "\n",
    "print((price * amount).sum())"
   ]
  },
  {
   "cell_type": "markdown",
   "metadata": {},
   "source": [
    "Вычислим это же скалярное произведение функцией numpy.dot() и убедимся, что результаты совпадают"
   ]
  },
  {
   "cell_type": "code",
   "execution_count": 23,
   "metadata": {},
   "outputs": [
    {
     "name": "stdout",
     "output_type": "stream",
     "text": [
      "442\n"
     ]
    }
   ],
   "source": [
    "print(np.dot(price, amount))"
   ]
  },
  {
   "cell_type": "markdown",
   "metadata": {},
   "source": [
    "Ещё проще скалярное произведение вычисляется оператором матричного умножения. Он обозначается символом коммерческое эт, или «собака» (@)"
   ]
  },
  {
   "cell_type": "code",
   "execution_count": 24,
   "metadata": {},
   "outputs": [
    {
     "name": "stdout",
     "output_type": "stream",
     "text": [
      "442\n"
     ]
    }
   ],
   "source": [
    "print(price @ amount)"
   ]
  },
  {
   "cell_type": "markdown",
   "metadata": {},
   "source": [
    "#### Расстояния на плоскости"
   ]
  },
  {
   "cell_type": "markdown",
   "metadata": {},
   "source": [
    "C помощью скалярного произведения научимся рассчитывать расстояние между векторами."
   ]
  },
  {
   "cell_type": "code",
   "execution_count": 25,
   "metadata": {},
   "outputs": [
    {
     "data": {
      "text/plain": [
       "np.float64(4.123105625617661)"
      ]
     },
     "execution_count": 25,
     "metadata": {},
     "output_type": "execute_result"
    }
   ],
   "source": [
    "((vector2 - vector1) @ (vector2 - vector1)) ** (1/2)"
   ]
  },
  {
   "cell_type": "markdown",
   "metadata": {},
   "source": [
    "Для расчёта расстояний в SciPy есть библиотека distance. А евклидово расстояние можно вычислить с помощью функции distance.euclidean()"
   ]
  },
  {
   "cell_type": "code",
   "execution_count": 26,
   "metadata": {},
   "outputs": [
    {
     "data": {
      "text/plain": [
       "np.float64(4.123105625617661)"
      ]
     },
     "execution_count": 26,
     "metadata": {},
     "output_type": "execute_result"
    }
   ],
   "source": [
    "distance.euclidean(vector1, vector2)"
   ]
  },
  {
   "cell_type": "markdown",
   "metadata": {},
   "source": [
    "## Матрицы"
   ]
  },
  {
   "cell_type": "markdown",
   "metadata": {},
   "source": [
    "Создадим в NumPy матрицу из списка списков, для этого вызовем np.array(). Все вложенные  списки одинаковой длины."
   ]
  },
  {
   "cell_type": "code",
   "execution_count": 27,
   "metadata": {},
   "outputs": [
    {
     "name": "stdout",
     "output_type": "stream",
     "text": [
      "[[1 2 3]\n",
      " [4 5 6]\n",
      " [7 8 9]]\n"
     ]
    }
   ],
   "source": [
    "matrix = np.array([\n",
    "    [1, 2, 3], \n",
    "    [4, 5, 6],\n",
    "    [7, 8, 9]])\n",
    "print(matrix) "
   ]
  },
  {
   "cell_type": "markdown",
   "metadata": {},
   "source": [
    "Вместо списка списков возьмём список векторов"
   ]
  },
  {
   "cell_type": "code",
   "execution_count": 28,
   "metadata": {},
   "outputs": [
    {
     "name": "stdout",
     "output_type": "stream",
     "text": [
      "[[ 1  2  3]\n",
      " [-1 -2 -3]]\n"
     ]
    }
   ],
   "source": [
    "string0 = np.array([1,2,3])\n",
    "string1 = np.array([-1,-2,-3])\n",
    "list_of_vectors = [string0, string1]\n",
    "matrix_from_vectors = np.array(list_of_vectors)\n",
    "\n",
    "print(matrix_from_vectors) "
   ]
  },
  {
   "cell_type": "markdown",
   "metadata": {},
   "source": [
    "Создадим матрицу из таблицы Pandas: её атрибут values — это матрица."
   ]
  },
  {
   "cell_type": "code",
   "execution_count": 29,
   "metadata": {},
   "outputs": [
    {
     "data": {
      "text/html": [
       "<div>\n",
       "<style scoped>\n",
       "    .dataframe tbody tr th:only-of-type {\n",
       "        vertical-align: middle;\n",
       "    }\n",
       "\n",
       "    .dataframe tbody tr th {\n",
       "        vertical-align: top;\n",
       "    }\n",
       "\n",
       "    .dataframe thead th {\n",
       "        text-align: right;\n",
       "    }\n",
       "</style>\n",
       "<table border=\"1\" class=\"dataframe\">\n",
       "  <thead>\n",
       "    <tr style=\"text-align: right;\">\n",
       "      <th></th>\n",
       "      <th>a</th>\n",
       "      <th>b</th>\n",
       "    </tr>\n",
       "  </thead>\n",
       "  <tbody>\n",
       "    <tr>\n",
       "      <th>0</th>\n",
       "      <td>120</td>\n",
       "      <td>42</td>\n",
       "    </tr>\n",
       "    <tr>\n",
       "      <th>1</th>\n",
       "      <td>60</td>\n",
       "      <td>50</td>\n",
       "    </tr>\n",
       "    <tr>\n",
       "      <th>2</th>\n",
       "      <td>75</td>\n",
       "      <td>90</td>\n",
       "    </tr>\n",
       "  </tbody>\n",
       "</table>\n",
       "</div>"
      ],
      "text/plain": [
       "     a   b\n",
       "0  120  42\n",
       "1   60  50\n",
       "2   75  90"
      ]
     },
     "metadata": {},
     "output_type": "display_data"
    },
    {
     "name": "stdout",
     "output_type": "stream",
     "text": [
      "[[120  42]\n",
      " [ 60  50]\n",
      " [ 75  90]]\n"
     ]
    }
   ],
   "source": [
    "df = pd.DataFrame({'a': [ 120,  60, 75], 'b': [42, 50, 90]})\n",
    "matrix = df.values\n",
    "display(df)\n",
    "print(matrix) "
   ]
  },
  {
   "cell_type": "markdown",
   "metadata": {},
   "source": [
    "Атрибутом shape определим размер матрицы 𝐴. Её cтроки и столбцы нумеруются с нуля, как и индексы массива."
   ]
  },
  {
   "cell_type": "code",
   "execution_count": 30,
   "metadata": {},
   "outputs": [
    {
     "name": "stdout",
     "output_type": "stream",
     "text": [
      "Размер: (2, 3)\n",
      "A[1, 2]: 4\n"
     ]
    }
   ],
   "source": [
    "A = np.array([\n",
    "    [1, 2, 3], \n",
    "    [2, 3, 4]])\n",
    "\n",
    "print('Размер:', A.shape)\n",
    "print('A[1, 2]:', A[1, 2]) "
   ]
  },
  {
   "cell_type": "markdown",
   "metadata": {},
   "source": [
    "Из матрицы выделим отдельные строки и столбцы"
   ]
  },
  {
   "cell_type": "code",
   "execution_count": 31,
   "metadata": {},
   "outputs": [
    {
     "name": "stdout",
     "output_type": "stream",
     "text": [
      "Строка 0: [1 2 3]\n",
      "Столбец 2: [ 3  6  9 12]\n"
     ]
    }
   ],
   "source": [
    "matrix = np.array([\n",
    "    [1, 2, 3], \n",
    "    [4, 5, 6],\n",
    "    [7, 8, 9],\n",
    "    [10,11,12]])\n",
    "\n",
    "print('Строка 0:', matrix[0, :])\n",
    "print('Столбец 2:', matrix[:, 2]) "
   ]
  },
  {
   "cell_type": "markdown",
   "metadata": {},
   "source": [
    "Получили векторы."
   ]
  },
  {
   "cell_type": "markdown",
   "metadata": {},
   "source": [
    "#### Операции с матрицами"
   ]
  },
  {
   "cell_type": "markdown",
   "metadata": {},
   "source": [
    "Просуммируем матрицы"
   ]
  },
  {
   "cell_type": "code",
   "execution_count": 32,
   "metadata": {},
   "outputs": [
    {
     "name": "stdout",
     "output_type": "stream",
     "text": [
      "[[ 6  8]\n",
      " [10 12]]\n"
     ]
    }
   ],
   "source": [
    "matrix1 = np.array([\n",
    "    [1, 2], \n",
    "    [3, 4]])\n",
    "\n",
    "matrix2 = np.array([\n",
    "    [5, 6], \n",
    "    [7, 8]])\n",
    "\n",
    "print(matrix1 + matrix2) "
   ]
  },
  {
   "cell_type": "markdown",
   "metadata": {},
   "source": [
    "Умножим матрицу на 2 и вычтем из неё 2"
   ]
  },
  {
   "cell_type": "code",
   "execution_count": 33,
   "metadata": {},
   "outputs": [
    {
     "name": "stdout",
     "output_type": "stream",
     "text": [
      "[[2 4]\n",
      " [6 8]]\n",
      "[[-1  0]\n",
      " [ 1  2]]\n"
     ]
    }
   ],
   "source": [
    "matrix = np.array([\n",
    "    [1, 2], \n",
    "    [3, 4]])\n",
    "\n",
    "print(matrix * 2)\n",
    "print(matrix - 2) "
   ]
  },
  {
   "cell_type": "markdown",
   "metadata": {},
   "source": [
    "Выполним эту операцию умножения матрицы на вектор, вызовем знакомую вам функцию np.dot()"
   ]
  },
  {
   "cell_type": "code",
   "execution_count": 34,
   "metadata": {},
   "outputs": [
    {
     "name": "stdout",
     "output_type": "stream",
     "text": [
      "[ 50 122]\n",
      "[ 50 122]\n"
     ]
    }
   ],
   "source": [
    "A = np.array([\n",
    "    [1, 2, 3], \n",
    "    [4, 5, 6]])\n",
    "\n",
    "b = np.array([7, 8, 9])\n",
    "\n",
    "print(np.dot(A, b))\n",
    "print(A.dot(b)) "
   ]
  },
  {
   "cell_type": "markdown",
   "metadata": {},
   "source": [
    "Транспонируем матрицу. В NumPy эта операция задаётся атрибутом T. "
   ]
  },
  {
   "cell_type": "code",
   "execution_count": 35,
   "metadata": {},
   "outputs": [
    {
     "name": "stdout",
     "output_type": "stream",
     "text": [
      "Исходная матрица\n",
      "[[ 1  2]\n",
      " [ 4 -4]\n",
      " [ 0 17]]\n",
      "Транспонированная матрица\n",
      "[[ 1  4  0]\n",
      " [ 2 -4 17]]\n"
     ]
    }
   ],
   "source": [
    "matrix = np.array([\n",
    "    [1, 2], \n",
    "    [4, -4], \n",
    "    [0, 17]])\n",
    "\n",
    "print(\"Исходная матрица\")\n",
    "print(matrix)\n",
    "print(\"Транспонированная матрица\")\n",
    "print(matrix.T) "
   ]
  },
  {
   "cell_type": "markdown",
   "metadata": {},
   "source": [
    "Перемножим две матрицы. В numpy матрицы умножаются вызовом функций np.dot(A, B), или A.dot(B). Также этот вызов можно заменить знаком матричного умножения @."
   ]
  },
  {
   "cell_type": "code",
   "execution_count": 36,
   "metadata": {},
   "outputs": [
    {
     "name": "stdout",
     "output_type": "stream",
     "text": [
      "[[ 4  5]\n",
      " [-4 -5]]\n",
      "\n",
      "[[ 4  5]\n",
      " [-4 -5]]\n",
      "\n",
      "[[ 4  5]\n",
      " [-4 -5]]\n"
     ]
    }
   ],
   "source": [
    "A = np.array([\n",
    "    [1, 2, 3], \n",
    "    [-1, -2, -3]])\n",
    "\n",
    "B = np.array([\n",
    "    [1, 0], \n",
    "    [0, 1],\n",
    "    [1, 1]])\n",
    "\n",
    "print(A.dot(B))\n",
    "print()\n",
    "print(np.dot(A,B)) \n",
    "print()\n",
    "print(A @ B) "
   ]
  },
  {
   "cell_type": "markdown",
   "metadata": {},
   "source": [
    "Перемножим матрицы A и B в другом порядке"
   ]
  },
  {
   "cell_type": "code",
   "execution_count": 37,
   "metadata": {},
   "outputs": [
    {
     "name": "stdout",
     "output_type": "stream",
     "text": [
      "[[ 1  2  3]\n",
      " [-1 -2 -3]\n",
      " [ 0  0  0]]\n"
     ]
    }
   ],
   "source": [
    "print(B @ A) "
   ]
  },
  {
   "cell_type": "markdown",
   "metadata": {},
   "source": [
    "Научимся создавать обратную матрицу и убедимся, что она действительно обратная."
   ]
  },
  {
   "cell_type": "code",
   "execution_count": 38,
   "metadata": {},
   "outputs": [
    {
     "name": "stdout",
     "output_type": "stream",
     "text": [
      "[[1 2]\n",
      " [3 4]]\n",
      "\n",
      "[[1.0000000e+00 0.0000000e+00]\n",
      " [8.8817842e-16 1.0000000e+00]]\n"
     ]
    }
   ],
   "source": [
    "matrix = np.array([\n",
    "    [1, 2], \n",
    "    [3, 4]])\n",
    "matrix_inv = np.linalg.inv(matrix)\n",
    "print(matrix)\n",
    "print()\n",
    "print(matrix @ matrix_inv)"
   ]
  },
  {
   "cell_type": "markdown",
   "metadata": {},
   "source": [
    "## Градиентный спуск"
   ]
  },
  {
   "cell_type": "markdown",
   "metadata": {},
   "source": [
    "Напишем алгоритм градиентного спуска на языке Python.\n",
    "Резюмируем, что нужно сделать для запуска алгоритма градиентного спуска:\n",
    " - В аргументах алгоритма задать начальное значение x⁰.\n",
    " - Рассчитать градиент функции потерь (это вектор производных по каждому аргументу, в который нужно передать вектор x).\n",
    " - Найти новое значение по формуле: $x^{1}$ = $x^{0}$ - μ ∇f($x^{0}$), где μ — размер шага; задаётся в аргументах алгоритма.\n",
    " - Повторить заданное в аргументах число итераций."
   ]
  },
  {
   "cell_type": "markdown",
   "metadata": {},
   "source": [
    "Реализуем нахождение минимума для функции f($x_{1}$, $x_{2}$) = $(x_{1} + x_{2} - 1)^{2}$ + $(x_{1} - x_{2} - 2)^{2}$."
   ]
  },
  {
   "cell_type": "markdown",
   "metadata": {},
   "source": [
    "Рассчитаем ее реальный минимум:  \n",
    "∇f = (4$x_{1}$ - 6, 4$x_{2}$ + 2) = (0, 0)  \n",
    "$x_{1}$ = 1.5  \n",
    "$x_{2}$ = -0.5"
   ]
  },
  {
   "cell_type": "code",
   "execution_count": 39,
   "metadata": {},
   "outputs": [
    {
     "name": "stdout",
     "output_type": "stream",
     "text": [
      "[ 1.5 -0.5]\n"
     ]
    }
   ],
   "source": [
    "def func(x):\n",
    "    return (x[0] + x[1] - 1)**2 + (x[0] - x[1] - 2)**2\n",
    "\n",
    "def gradient(x):\n",
    "    return np.array([4 * x[0] - 6, 4 * x[1] + 2])\n",
    "\n",
    "def gradient_descent(initialization, step_size, iterations):\n",
    "    old_x = initialization\n",
    "    for i in range(iterations):\n",
    "        new_x = old_x - step_size * gradient(old_x)\n",
    "        old_x = new_x\n",
    "    return old_x\n",
    "\n",
    "print(gradient_descent(np.array([0, 0]), 0.05, 100))"
   ]
  },
  {
   "cell_type": "markdown",
   "metadata": {},
   "source": [
    "## Градиентный спуск для линейной регрессии"
   ]
  },
  {
   "cell_type": "markdown",
   "metadata": {},
   "source": [
    "Напишем алгоритм градиентного спуска для линейной регрессии.  \n",
    "Будем решать задачу регрессии из задачи темы 1. Для начала найдем решение с помощью библиотечного алгоритма."
   ]
  },
  {
   "cell_type": "code",
   "execution_count": 40,
   "metadata": {},
   "outputs": [
    {
     "name": "stdout",
     "output_type": "stream",
     "text": [
      "MAE библиотечной модели на обучающем датасете 43.04580498936244\n",
      "MAE библиотечной модели на валидационном датасете 44.19931587691498\n"
     ]
    }
   ],
   "source": [
    "df = load_diabetes(as_frame=True).frame\n",
    "\n",
    "features_train, features_test, target_train, target_test = train_test_split(df.drop(['target'], axis=1), df['target'], test_size=0.3, random_state=2)\n",
    "\n",
    "lin_model = LinearRegression()\n",
    "\n",
    "lin_model.fit(features_train, target_train)\n",
    "\n",
    "lin_mae_train = mean_absolute_error(lin_model.predict(features_train), target_train)\n",
    "print(\"MAE библиотечной модели на обучающем датасете\", lin_mae_train)\n",
    "lin_mae_val = mean_absolute_error(lin_model.predict(features_test), target_test)\n",
    "print(\"MAE библиотечной модели на валидационном датасете\", lin_mae_val)"
   ]
  },
  {
   "cell_type": "markdown",
   "metadata": {},
   "source": [
    "Теперь реализуем свой класс для решения задачи градиентным спуском"
   ]
  },
  {
   "cell_type": "code",
   "execution_count": 41,
   "metadata": {},
   "outputs": [],
   "source": [
    "class MyLinearRegression:\n",
    "    def __init__(self, step_size, iterations):\n",
    "        self.step_size = step_size\n",
    "        self.iterations = iterations\n",
    "    \n",
    "    def fit(self, train_features, train_target):\n",
    "        X = np.concatenate((np.ones((train_features.shape[0], 1)), train_features), axis=1)        \n",
    "        y = train_target\n",
    "        w = np.zeros(X.shape[1])\n",
    "        \n",
    "        for i in range(self.iterations):\n",
    "            gradient = 2* X.T @ (X @ w - y) / X.shape[0]\n",
    "            w -= self.step_size * gradient\n",
    "\n",
    "        self.w = w[1:]\n",
    "        self.w0 = w[0]\n",
    "\n",
    "    def predict(self, test_features):\n",
    "        return test_features.dot(self.w) + self.w0"
   ]
  },
  {
   "cell_type": "markdown",
   "metadata": {},
   "source": [
    "Подберем различные размеры шагов и количества итераций градиентного спуска, чтобы добиться приемлимого результата."
   ]
  },
  {
   "cell_type": "code",
   "execution_count": 42,
   "metadata": {},
   "outputs": [
    {
     "name": "stdout",
     "output_type": "stream",
     "text": [
      "MAE нашей модели на обучающем датасете 43.21241185937767\n",
      "MAE нашей модели на валидационном датасете 44.4320817450386\n"
     ]
    }
   ],
   "source": [
    "our_lin_model = MyLinearRegression(0.9, 1000)\n",
    "our_lin_model.fit(features_train, target_train)\n",
    "\n",
    "our_lin_mae_train = mean_absolute_error(our_lin_model.predict(features_train), target_train)\n",
    "print(\"MAE нашей модели на обучающем датасете\", our_lin_mae_train)\n",
    "our_lin_mae_val = mean_absolute_error(our_lin_model.predict(features_test), target_test)\n",
    "print(\"MAE нашей модели на валидационном датасете\", our_lin_mae_val)"
   ]
  },
  {
   "cell_type": "markdown",
   "metadata": {},
   "source": [
    "Сравним качество с решением прямым методом"
   ]
  },
  {
   "cell_type": "code",
   "execution_count": 43,
   "metadata": {},
   "outputs": [
    {
     "name": "stdout",
     "output_type": "stream",
     "text": [
      "MAE прямого на решения обучающем датасете 43.04580498936244\n",
      "MAE прямого на решения тестовом датасете 44.19931587691499\n"
     ]
    }
   ],
   "source": [
    "X = np.concatenate((np.ones((features_train.shape[0], 1)), features_train), axis=1)        \n",
    "y = target_train\n",
    "\n",
    "w = np.linalg.inv(np.transpose(X).dot(X)).dot(np.transpose(X)).dot(y)\n",
    "\n",
    "straight_mae_train = mean_absolute_error(X @ w, target_train)\n",
    "print(\"MAE прямого на решения обучающем датасете\", straight_mae_train)\n",
    "\n",
    "X_test = np.concatenate((np.ones((features_test.shape[0], 1)), features_test), axis=1)\n",
    "straight_mae_test = mean_absolute_error(X_test @ w, target_test)\n",
    "print(\"MAE прямого на решения тестовом датасете\", straight_mae_test)"
   ]
  },
  {
   "cell_type": "code",
   "execution_count": null,
   "metadata": {},
   "outputs": [],
   "source": []
  }
 ],
 "metadata": {
  "kernelspec": {
   "display_name": ".venv",
   "language": "python",
   "name": "python3"
  },
  "language_info": {
   "codemirror_mode": {
    "name": "ipython",
    "version": 3
   },
   "file_extension": ".py",
   "mimetype": "text/x-python",
   "name": "python",
   "nbconvert_exporter": "python",
   "pygments_lexer": "ipython3",
   "version": "3.13.4"
  },
  "toc": {
   "base_numbering": 1,
   "nav_menu": {},
   "number_sections": false,
   "sideBar": false,
   "skip_h1_title": false,
   "title_cell": "Table of Contents",
   "title_sidebar": "Contents",
   "toc_cell": false,
   "toc_position": {},
   "toc_section_display": false,
   "toc_window_display": false
  }
 },
 "nbformat": 4,
 "nbformat_minor": 4
}
