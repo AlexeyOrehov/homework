{
 "cells": [
  {
   "cell_type": "code",
   "execution_count": 1,
   "id": "8ac84580",
   "metadata": {},
   "outputs": [],
   "source": [
    "import pandas as pd\n",
    "import matplotlib.pyplot as plt"
   ]
  },
  {
   "cell_type": "code",
   "execution_count": 2,
   "id": "03552efa",
   "metadata": {},
   "outputs": [
    {
     "data": {
      "text/html": [
       "<div>\n",
       "<style scoped>\n",
       "    .dataframe tbody tr th:only-of-type {\n",
       "        vertical-align: middle;\n",
       "    }\n",
       "\n",
       "    .dataframe tbody tr th {\n",
       "        vertical-align: top;\n",
       "    }\n",
       "\n",
       "    .dataframe thead th {\n",
       "        text-align: right;\n",
       "    }\n",
       "</style>\n",
       "<table border=\"1\" class=\"dataframe\">\n",
       "  <thead>\n",
       "    <tr style=\"text-align: right;\">\n",
       "      <th></th>\n",
       "      <th>order_id</th>\n",
       "      <th>customer_id</th>\n",
       "      <th>city</th>\n",
       "      <th>product_category</th>\n",
       "      <th>product</th>\n",
       "      <th>quantity</th>\n",
       "      <th>price</th>\n",
       "      <th>revenue</th>\n",
       "    </tr>\n",
       "  </thead>\n",
       "  <tbody>\n",
       "    <tr>\n",
       "      <th>0</th>\n",
       "      <td>1</td>\n",
       "      <td>1051</td>\n",
       "      <td>Москва</td>\n",
       "      <td>Электроника</td>\n",
       "      <td>Ноутбук</td>\n",
       "      <td>1</td>\n",
       "      <td>43158</td>\n",
       "      <td>43158</td>\n",
       "    </tr>\n",
       "    <tr>\n",
       "      <th>1</th>\n",
       "      <td>2</td>\n",
       "      <td>1071</td>\n",
       "      <td>СПб</td>\n",
       "      <td>Одежда</td>\n",
       "      <td>Футболка</td>\n",
       "      <td>1</td>\n",
       "      <td>12284</td>\n",
       "      <td>12284</td>\n",
       "    </tr>\n",
       "    <tr>\n",
       "      <th>2</th>\n",
       "      <td>3</td>\n",
       "      <td>1082</td>\n",
       "      <td>Москва</td>\n",
       "      <td>Спорттовары</td>\n",
       "      <td>Велосипед</td>\n",
       "      <td>3</td>\n",
       "      <td>5426</td>\n",
       "      <td>16278</td>\n",
       "    </tr>\n",
       "    <tr>\n",
       "      <th>3</th>\n",
       "      <td>4</td>\n",
       "      <td>1074</td>\n",
       "      <td>Екатеринбург</td>\n",
       "      <td>Косметика</td>\n",
       "      <td>Крем</td>\n",
       "      <td>4</td>\n",
       "      <td>3744</td>\n",
       "      <td>14976</td>\n",
       "    </tr>\n",
       "    <tr>\n",
       "      <th>4</th>\n",
       "      <td>5</td>\n",
       "      <td>1099</td>\n",
       "      <td>Москва</td>\n",
       "      <td>Электроника</td>\n",
       "      <td>Наушники</td>\n",
       "      <td>4</td>\n",
       "      <td>21023</td>\n",
       "      <td>84092</td>\n",
       "    </tr>\n",
       "  </tbody>\n",
       "</table>\n",
       "</div>"
      ],
      "text/plain": [
       "   order_id  customer_id          city product_category    product  quantity  \\\n",
       "0         1         1051        Москва      Электроника    Ноутбук         1   \n",
       "1         2         1071           СПб           Одежда   Футболка         1   \n",
       "2         3         1082        Москва      Спорттовары  Велосипед         3   \n",
       "3         4         1074  Екатеринбург        Косметика       Крем         4   \n",
       "4         5         1099        Москва      Электроника   Наушники         4   \n",
       "\n",
       "   price  revenue  \n",
       "0  43158    43158  \n",
       "1  12284    12284  \n",
       "2   5426    16278  \n",
       "3   3744    14976  \n",
       "4  21023    84092  "
      ]
     },
     "execution_count": 2,
     "metadata": {},
     "output_type": "execute_result"
    }
   ],
   "source": [
    "df = pd.read_csv('orders_dataset.csv')\n",
    "df['revenue'] = df['quantity'] * df['price']\n",
    "df.head()"
   ]
  },
  {
   "cell_type": "code",
   "execution_count": 3,
   "id": "75c39c88",
   "metadata": {},
   "outputs": [
    {
     "name": "stdout",
     "output_type": "stream",
     "text": [
      "<class 'pandas.core.frame.DataFrame'>\n",
      "RangeIndex: 300 entries, 0 to 299\n",
      "Data columns (total 8 columns):\n",
      " #   Column            Non-Null Count  Dtype \n",
      "---  ------            --------------  ----- \n",
      " 0   order_id          300 non-null    int64 \n",
      " 1   customer_id       300 non-null    int64 \n",
      " 2   city              300 non-null    object\n",
      " 3   product_category  300 non-null    object\n",
      " 4   product           300 non-null    object\n",
      " 5   quantity          300 non-null    int64 \n",
      " 6   price             300 non-null    int64 \n",
      " 7   revenue           300 non-null    int64 \n",
      "dtypes: int64(5), object(3)\n",
      "memory usage: 18.9+ KB\n"
     ]
    }
   ],
   "source": [
    "df.info()"
   ]
  },
  {
   "cell_type": "markdown",
   "id": "b8e874b0",
   "metadata": {},
   "source": [
    "- Данный датафрейм имеет 300 строк\n",
    "- Пропусков нет\n",
    "- Типы данных соответствуют столбцам"
   ]
  },
  {
   "cell_type": "markdown",
   "id": "d0c38d30",
   "metadata": {},
   "source": [
    "## Какие категории товаров приносят наибольшую выручку?"
   ]
  },
  {
   "cell_type": "code",
   "execution_count": 4,
   "id": "b1c6791b",
   "metadata": {},
   "outputs": [
    {
     "data": {
      "text/html": [
       "<div>\n",
       "<style scoped>\n",
       "    .dataframe tbody tr th:only-of-type {\n",
       "        vertical-align: middle;\n",
       "    }\n",
       "\n",
       "    .dataframe tbody tr th {\n",
       "        vertical-align: top;\n",
       "    }\n",
       "\n",
       "    .dataframe thead th {\n",
       "        text-align: right;\n",
       "    }\n",
       "</style>\n",
       "<table border=\"1\" class=\"dataframe\">\n",
       "  <thead>\n",
       "    <tr style=\"text-align: right;\">\n",
       "      <th></th>\n",
       "      <th>product_category</th>\n",
       "      <th>revenue</th>\n",
       "    </tr>\n",
       "  </thead>\n",
       "  <tbody>\n",
       "    <tr>\n",
       "      <th>4</th>\n",
       "      <td>Электроника</td>\n",
       "      <td>3414716</td>\n",
       "    </tr>\n",
       "    <tr>\n",
       "      <th>0</th>\n",
       "      <td>Бытовая техника</td>\n",
       "      <td>3378938</td>\n",
       "    </tr>\n",
       "    <tr>\n",
       "      <th>3</th>\n",
       "      <td>Спорттовары</td>\n",
       "      <td>2585193</td>\n",
       "    </tr>\n",
       "    <tr>\n",
       "      <th>2</th>\n",
       "      <td>Одежда</td>\n",
       "      <td>1223176</td>\n",
       "    </tr>\n",
       "    <tr>\n",
       "      <th>1</th>\n",
       "      <td>Косметика</td>\n",
       "      <td>652221</td>\n",
       "    </tr>\n",
       "  </tbody>\n",
       "</table>\n",
       "</div>"
      ],
      "text/plain": [
       "  product_category  revenue\n",
       "4      Электроника  3414716\n",
       "0  Бытовая техника  3378938\n",
       "3      Спорттовары  2585193\n",
       "2           Одежда  1223176\n",
       "1        Косметика   652221"
      ]
     },
     "execution_count": 4,
     "metadata": {},
     "output_type": "execute_result"
    }
   ],
   "source": [
    "df_revenue = df.groupby('product_category')['revenue'].sum().reset_index().sort_values('revenue', ascending=False)\n",
    "df_revenue"
   ]
  },
  {
   "cell_type": "markdown",
   "id": "c39d5b67",
   "metadata": {},
   "source": [
    "__Вывод:__ наибольшая выручка у категории __Электроника__ - 3414716, наименьшая у __Косметика__ - 652221"
   ]
  },
  {
   "cell_type": "markdown",
   "id": "33482552",
   "metadata": {},
   "source": [
    "## Какие города дают больше всего выручки?"
   ]
  },
  {
   "cell_type": "code",
   "execution_count": 5,
   "id": "daf469df",
   "metadata": {},
   "outputs": [
    {
     "data": {
      "text/html": [
       "<div>\n",
       "<style scoped>\n",
       "    .dataframe tbody tr th:only-of-type {\n",
       "        vertical-align: middle;\n",
       "    }\n",
       "\n",
       "    .dataframe tbody tr th {\n",
       "        vertical-align: top;\n",
       "    }\n",
       "\n",
       "    .dataframe thead th {\n",
       "        text-align: right;\n",
       "    }\n",
       "</style>\n",
       "<table border=\"1\" class=\"dataframe\">\n",
       "  <thead>\n",
       "    <tr style=\"text-align: right;\">\n",
       "      <th></th>\n",
       "      <th>city</th>\n",
       "      <th>revenue</th>\n",
       "    </tr>\n",
       "  </thead>\n",
       "  <tbody>\n",
       "    <tr>\n",
       "      <th>3</th>\n",
       "      <td>Новосибирск</td>\n",
       "      <td>2679122</td>\n",
       "    </tr>\n",
       "    <tr>\n",
       "      <th>4</th>\n",
       "      <td>СПб</td>\n",
       "      <td>2649287</td>\n",
       "    </tr>\n",
       "    <tr>\n",
       "      <th>2</th>\n",
       "      <td>Москва</td>\n",
       "      <td>2182517</td>\n",
       "    </tr>\n",
       "    <tr>\n",
       "      <th>1</th>\n",
       "      <td>Казань</td>\n",
       "      <td>1957185</td>\n",
       "    </tr>\n",
       "    <tr>\n",
       "      <th>0</th>\n",
       "      <td>Екатеринбург</td>\n",
       "      <td>1786133</td>\n",
       "    </tr>\n",
       "  </tbody>\n",
       "</table>\n",
       "</div>"
      ],
      "text/plain": [
       "           city  revenue\n",
       "3   Новосибирск  2679122\n",
       "4           СПб  2649287\n",
       "2        Москва  2182517\n",
       "1        Казань  1957185\n",
       "0  Екатеринбург  1786133"
      ]
     },
     "execution_count": 5,
     "metadata": {},
     "output_type": "execute_result"
    }
   ],
   "source": [
    "df_city = df.groupby('city')['revenue'].sum().reset_index().sort_values('revenue', ascending=False)\n",
    "df_city"
   ]
  },
  {
   "cell_type": "markdown",
   "id": "362ec7fa",
   "metadata": {},
   "source": [
    "__Вывод:__ больше всего выручки в городе __Новосибирск__ - 2679122, ниаменьшая в городе __Екатеринбург__ - 1786133"
   ]
  },
  {
   "cell_type": "markdown",
   "id": "03fbd84f",
   "metadata": {},
   "source": [
    "## У какого города средний чек выше всего?"
   ]
  },
  {
   "cell_type": "code",
   "execution_count": 6,
   "id": "6a5d91ca",
   "metadata": {},
   "outputs": [
    {
     "data": {
      "text/html": [
       "<div>\n",
       "<style scoped>\n",
       "    .dataframe tbody tr th:only-of-type {\n",
       "        vertical-align: middle;\n",
       "    }\n",
       "\n",
       "    .dataframe tbody tr th {\n",
       "        vertical-align: top;\n",
       "    }\n",
       "\n",
       "    .dataframe thead th {\n",
       "        text-align: right;\n",
       "    }\n",
       "</style>\n",
       "<table border=\"1\" class=\"dataframe\">\n",
       "  <thead>\n",
       "    <tr style=\"text-align: right;\">\n",
       "      <th></th>\n",
       "      <th>city</th>\n",
       "      <th>average</th>\n",
       "    </tr>\n",
       "  </thead>\n",
       "  <tbody>\n",
       "    <tr>\n",
       "      <th>1</th>\n",
       "      <td>Казань</td>\n",
       "      <td>16337.895833</td>\n",
       "    </tr>\n",
       "    <tr>\n",
       "      <th>3</th>\n",
       "      <td>Новосибирск</td>\n",
       "      <td>15544.075758</td>\n",
       "    </tr>\n",
       "    <tr>\n",
       "      <th>4</th>\n",
       "      <td>СПб</td>\n",
       "      <td>15467.690141</td>\n",
       "    </tr>\n",
       "    <tr>\n",
       "      <th>0</th>\n",
       "      <td>Екатеринбург</td>\n",
       "      <td>13039.509434</td>\n",
       "    </tr>\n",
       "    <tr>\n",
       "      <th>2</th>\n",
       "      <td>Москва</td>\n",
       "      <td>12907.758065</td>\n",
       "    </tr>\n",
       "  </tbody>\n",
       "</table>\n",
       "</div>"
      ],
      "text/plain": [
       "           city       average\n",
       "1        Казань  16337.895833\n",
       "3   Новосибирск  15544.075758\n",
       "4           СПб  15467.690141\n",
       "0  Екатеринбург  13039.509434\n",
       "2        Москва  12907.758065"
      ]
     },
     "execution_count": 6,
     "metadata": {},
     "output_type": "execute_result"
    }
   ],
   "source": [
    "df_sr = df.groupby('city').agg(average=('price', 'mean')).reset_index().sort_values('average', ascending=False)\n",
    "df_sr"
   ]
  },
  {
   "cell_type": "markdown",
   "id": "bfcfa441",
   "metadata": {},
   "source": [
    "__Вывод:__ самый высокий средний чек в городе __Казань__ - 16337.895833"
   ]
  },
  {
   "cell_type": "markdown",
   "id": "27df8eb5",
   "metadata": {},
   "source": [
    "## Какие топ-5 товаров по выручке?"
   ]
  },
  {
   "cell_type": "code",
   "execution_count": 7,
   "id": "0fa36ca4",
   "metadata": {},
   "outputs": [
    {
     "data": {
      "text/html": [
       "<div>\n",
       "<style scoped>\n",
       "    .dataframe tbody tr th:only-of-type {\n",
       "        vertical-align: middle;\n",
       "    }\n",
       "\n",
       "    .dataframe tbody tr th {\n",
       "        vertical-align: top;\n",
       "    }\n",
       "\n",
       "    .dataframe thead th {\n",
       "        text-align: right;\n",
       "    }\n",
       "</style>\n",
       "<table border=\"1\" class=\"dataframe\">\n",
       "  <thead>\n",
       "    <tr style=\"text-align: right;\">\n",
       "      <th></th>\n",
       "      <th>product</th>\n",
       "      <th>revenue</th>\n",
       "    </tr>\n",
       "  </thead>\n",
       "  <tbody>\n",
       "    <tr>\n",
       "      <th>23</th>\n",
       "      <td>Чайник</td>\n",
       "      <td>992368</td>\n",
       "    </tr>\n",
       "    <tr>\n",
       "      <th>11</th>\n",
       "      <td>Ноутбук</td>\n",
       "      <td>990033</td>\n",
       "    </tr>\n",
       "    <tr>\n",
       "      <th>17</th>\n",
       "      <td>Смартфон</td>\n",
       "      <td>967237</td>\n",
       "    </tr>\n",
       "    <tr>\n",
       "      <th>22</th>\n",
       "      <td>Холодильник</td>\n",
       "      <td>761746</td>\n",
       "    </tr>\n",
       "    <tr>\n",
       "      <th>21</th>\n",
       "      <td>Футбольный мяч</td>\n",
       "      <td>714631</td>\n",
       "    </tr>\n",
       "  </tbody>\n",
       "</table>\n",
       "</div>"
      ],
      "text/plain": [
       "           product  revenue\n",
       "23          Чайник   992368\n",
       "11         Ноутбук   990033\n",
       "17        Смартфон   967237\n",
       "22     Холодильник   761746\n",
       "21  Футбольный мяч   714631"
      ]
     },
     "execution_count": 7,
     "metadata": {},
     "output_type": "execute_result"
    }
   ],
   "source": [
    "df_top_5_product = df.groupby('product')['revenue'].sum().reset_index().sort_values('revenue', ascending=False)\n",
    "df_top_5_product.head() \n"
   ]
  },
  {
   "cell_type": "markdown",
   "id": "e8edf816",
   "metadata": {},
   "source": [
    "__Вывод:__ топ 5 категорий по выручке: __Чайник__, __Ноутбук__, __Смартфон__, __Холодильник__ и __Футбольный мяч__"
   ]
  },
  {
   "cell_type": "markdown",
   "id": "afea4c91",
   "metadata": {},
   "source": [
    "## Кто (по customer_id) в топ-10 клиентов по выручке?"
   ]
  },
  {
   "cell_type": "code",
   "execution_count": 8,
   "id": "08f60c54",
   "metadata": {},
   "outputs": [
    {
     "data": {
      "text/html": [
       "<div>\n",
       "<style scoped>\n",
       "    .dataframe tbody tr th:only-of-type {\n",
       "        vertical-align: middle;\n",
       "    }\n",
       "\n",
       "    .dataframe tbody tr th {\n",
       "        vertical-align: top;\n",
       "    }\n",
       "\n",
       "    .dataframe thead th {\n",
       "        text-align: right;\n",
       "    }\n",
       "</style>\n",
       "<table border=\"1\" class=\"dataframe\">\n",
       "  <thead>\n",
       "    <tr style=\"text-align: right;\">\n",
       "      <th></th>\n",
       "      <th>customer_id</th>\n",
       "      <th>revenue</th>\n",
       "    </tr>\n",
       "  </thead>\n",
       "  <tbody>\n",
       "    <tr>\n",
       "      <th>54</th>\n",
       "      <td>1057</td>\n",
       "      <td>489477</td>\n",
       "    </tr>\n",
       "    <tr>\n",
       "      <th>58</th>\n",
       "      <td>1061</td>\n",
       "      <td>405599</td>\n",
       "    </tr>\n",
       "    <tr>\n",
       "      <th>7</th>\n",
       "      <td>1007</td>\n",
       "      <td>388467</td>\n",
       "    </tr>\n",
       "    <tr>\n",
       "      <th>71</th>\n",
       "      <td>1074</td>\n",
       "      <td>344134</td>\n",
       "    </tr>\n",
       "    <tr>\n",
       "      <th>0</th>\n",
       "      <td>1000</td>\n",
       "      <td>342425</td>\n",
       "    </tr>\n",
       "    <tr>\n",
       "      <th>15</th>\n",
       "      <td>1016</td>\n",
       "      <td>322290</td>\n",
       "    </tr>\n",
       "    <tr>\n",
       "      <th>31</th>\n",
       "      <td>1032</td>\n",
       "      <td>309691</td>\n",
       "    </tr>\n",
       "    <tr>\n",
       "      <th>49</th>\n",
       "      <td>1052</td>\n",
       "      <td>272053</td>\n",
       "    </tr>\n",
       "    <tr>\n",
       "      <th>18</th>\n",
       "      <td>1019</td>\n",
       "      <td>267574</td>\n",
       "    </tr>\n",
       "    <tr>\n",
       "      <th>84</th>\n",
       "      <td>1088</td>\n",
       "      <td>259666</td>\n",
       "    </tr>\n",
       "  </tbody>\n",
       "</table>\n",
       "</div>"
      ],
      "text/plain": [
       "    customer_id  revenue\n",
       "54         1057   489477\n",
       "58         1061   405599\n",
       "7          1007   388467\n",
       "71         1074   344134\n",
       "0          1000   342425\n",
       "15         1016   322290\n",
       "31         1032   309691\n",
       "49         1052   272053\n",
       "18         1019   267574\n",
       "84         1088   259666"
      ]
     },
     "execution_count": 8,
     "metadata": {},
     "output_type": "execute_result"
    }
   ],
   "source": [
    "df_customer_id = df.groupby('customer_id')['revenue'].sum().reset_index().sort_values('revenue', ascending=False)\n",
    "df_customer_id.head(10)"
   ]
  },
  {
   "cell_type": "markdown",
   "id": "4f8d04f4",
   "metadata": {},
   "source": [
    "## bar chart выручки по категориям"
   ]
  },
  {
   "cell_type": "code",
   "execution_count": 9,
   "id": "7cff772c",
   "metadata": {},
   "outputs": [
    {
     "data": {
      "image/png": "[encoded data removed]",
      "text/plain": [
       "<Figure size 800x500 with 1 Axes>"
      ]
     },
     "metadata": {},
     "output_type": "display_data"
    }
   ],
   "source": [
    "df_revenue = df.groupby('product_category')['revenue'].sum().sort_values(ascending=False)\n",
    "\n",
    "plt.figure(figsize=(8,5))\n",
    "df_revenue.plot(kind='bar', color='skyblue', edgecolor='black')\n",
    "plt.title(\"Выручка по категориям товаров\")\n",
    "plt.ylabel(\"Выручка\")\n",
    "plt.xlabel(\"Категория\")\n",
    "plt.xticks(rotation=45)\n",
    "plt.show()"
   ]
  },
  {
   "cell_type": "markdown",
   "id": "3e445f52",
   "metadata": {},
   "source": [
    "Самая высокая выручка у Электроники, а самая низкая у Косметики"
   ]
  },
  {
   "cell_type": "markdown",
   "id": "8c9532be",
   "metadata": {},
   "source": [
    "## Выручка по городам"
   ]
  },
  {
   "cell_type": "code",
   "execution_count": 10,
   "id": "bb1d7e19",
   "metadata": {},
   "outputs": [
    {
     "data": {
      "image/png": "[encoded data removed]",
      "text/plain": [
       "<Figure size 800x500 with 1 Axes>"
      ]
     },
     "metadata": {},
     "output_type": "display_data"
    }
   ],
   "source": [
    "df_city = df.groupby('city')['revenue'].sum().sort_values(ascending=False)\n",
    "\n",
    "plt.figure(figsize=(8,5))\n",
    "df_city.plot(kind='bar', color='lightgreen', edgecolor='black')\n",
    "plt.title(\"Выручка по городам\")\n",
    "plt.ylabel(\"Выручка\")\n",
    "plt.xlabel(\"Города\")\n",
    "plt.xticks(rotation=45)\n",
    "plt.show()"
   ]
  },
  {
   "cell_type": "markdown",
   "id": "0824face",
   "metadata": {},
   "source": [
    "Самая высокая выручка в городе Новосибирс, самая низкая в городе Екатеренбург"
   ]
  },
  {
   "cell_type": "markdown",
   "id": "2326f442",
   "metadata": {},
   "source": [
    "## Распределение среднего чека"
   ]
  },
  {
   "cell_type": "code",
   "execution_count": 11,
   "id": "98625e2c",
   "metadata": {},
   "outputs": [],
   "source": [
    "df['avg_check'] = df['revenue'] / df['quantity']"
   ]
  },
  {
   "cell_type": "code",
   "execution_count": 12,
   "id": "1c45fc5f",
   "metadata": {},
   "outputs": [
    {
     "data": {
      "image/png": "[encoded data removed]",
      "text/plain": [
       "<Figure size 800x500 with 1 Axes>"
      ]
     },
     "metadata": {},
     "output_type": "display_data"
    }
   ],
   "source": [
    "plt.figure(figsize=(8,5))\n",
    "plt.hist(df['avg_check'], bins=20, color='salmon', edgecolor='black')\n",
    "plt.title(\"Распределение среднего чека\")\n",
    "plt.xlabel(\"Средний чек\")\n",
    "plt.ylabel(\"Количество заказов\")\n",
    "plt.show()"
   ]
  },
  {
   "cell_type": "markdown",
   "id": "2ab24d5b",
   "metadata": {},
   "source": [
    "Распределение НЕнормальное, самый частый средний чек находится в диапазоне от 2500 до 5000, очень редки средние чеки более 30000"
   ]
  },
  {
   "cell_type": "code",
   "execution_count": 13,
   "id": "d34eb057",
   "metadata": {},
   "outputs": [
    {
     "data": {
      "text/html": [
       "<div>\n",
       "<style scoped>\n",
       "    .dataframe tbody tr th:only-of-type {\n",
       "        vertical-align: middle;\n",
       "    }\n",
       "\n",
       "    .dataframe tbody tr th {\n",
       "        vertical-align: top;\n",
       "    }\n",
       "\n",
       "    .dataframe thead th {\n",
       "        text-align: right;\n",
       "    }\n",
       "</style>\n",
       "<table border=\"1\" class=\"dataframe\">\n",
       "  <thead>\n",
       "    <tr style=\"text-align: right;\">\n",
       "      <th></th>\n",
       "      <th>source</th>\n",
       "      <th>order_id</th>\n",
       "      <th>customer_id</th>\n",
       "      <th>city</th>\n",
       "      <th>product_category</th>\n",
       "      <th>product</th>\n",
       "      <th>quantity</th>\n",
       "      <th>price</th>\n",
       "      <th>notes</th>\n",
       "    </tr>\n",
       "  </thead>\n",
       "  <tbody>\n",
       "    <tr>\n",
       "      <th>0</th>\n",
       "      <td>retail</td>\n",
       "      <td>1</td>\n",
       "      <td>1051</td>\n",
       "      <td>Москва</td>\n",
       "      <td>Электроника</td>\n",
       "      <td>Ноутбук</td>\n",
       "      <td>1</td>\n",
       "      <td>43 158 ₽</td>\n",
       "      <td>NaN</td>\n",
       "    </tr>\n",
       "    <tr>\n",
       "      <th>1</th>\n",
       "      <td>web</td>\n",
       "      <td>2</td>\n",
       "      <td>1071</td>\n",
       "      <td>спб</td>\n",
       "      <td>Одежда</td>\n",
       "      <td>Футболка</td>\n",
       "      <td>1</td>\n",
       "      <td>12284</td>\n",
       "      <td>NaN</td>\n",
       "    </tr>\n",
       "    <tr>\n",
       "      <th>2</th>\n",
       "      <td>web</td>\n",
       "      <td>3</td>\n",
       "      <td>1082</td>\n",
       "      <td>Москва</td>\n",
       "      <td>NaN</td>\n",
       "      <td>Велосипед</td>\n",
       "      <td>3</td>\n",
       "      <td>5426</td>\n",
       "      <td>manual edit</td>\n",
       "    </tr>\n",
       "    <tr>\n",
       "      <th>3</th>\n",
       "      <td>app</td>\n",
       "      <td>4</td>\n",
       "      <td>1074</td>\n",
       "      <td>Екатеринбург</td>\n",
       "      <td>Косметика</td>\n",
       "      <td>Крем</td>\n",
       "      <td>4</td>\n",
       "      <td>3744</td>\n",
       "      <td>NaN</td>\n",
       "    </tr>\n",
       "    <tr>\n",
       "      <th>4</th>\n",
       "      <td>web</td>\n",
       "      <td>5</td>\n",
       "      <td>1099</td>\n",
       "      <td>NaN</td>\n",
       "      <td>NaN</td>\n",
       "      <td>Наушники</td>\n",
       "      <td>4</td>\n",
       "      <td>21 023 ₽</td>\n",
       "      <td>NaN</td>\n",
       "    </tr>\n",
       "  </tbody>\n",
       "</table>\n",
       "</div>"
      ],
      "text/plain": [
       "   source  order_id  customer_id          city product_category    product  \\\n",
       "0  retail         1         1051        Москва      Электроника    Ноутбук   \n",
       "1     web         2         1071        спб              Одежда   Футболка   \n",
       "2     web         3         1082        Москва              NaN  Велосипед   \n",
       "3     app         4         1074  Екатеринбург        Косметика       Крем   \n",
       "4     web         5         1099           NaN              NaN   Наушники   \n",
       "\n",
       "   quantity     price        notes  \n",
       "0         1  43 158 ₽          NaN  \n",
       "1         1     12284          NaN  \n",
       "2         3      5426  manual edit  \n",
       "3         4      3744          NaN  \n",
       "4         4  21 023 ₽          NaN  "
      ]
     },
     "execution_count": 13,
     "metadata": {},
     "output_type": "execute_result"
    }
   ],
   "source": [
    "df_dirty = pd.read_csv('orders_dirty.csv')\n",
    "df_dirty.head()"
   ]
  },
  {
   "cell_type": "code",
   "execution_count": 14,
   "id": "3e524687",
   "metadata": {},
   "outputs": [
    {
     "name": "stdout",
     "output_type": "stream",
     "text": [
      "<class 'pandas.core.frame.DataFrame'>\n",
      "RangeIndex: 312 entries, 0 to 311\n",
      "Data columns (total 9 columns):\n",
      " #   Column            Non-Null Count  Dtype \n",
      "---  ------            --------------  ----- \n",
      " 0   source            312 non-null    object\n",
      " 1   order_id          312 non-null    int64 \n",
      " 2   customer_id       312 non-null    int64 \n",
      " 3   city              291 non-null    object\n",
      " 4   product_category  297 non-null    object\n",
      " 5   product           312 non-null    object\n",
      " 6   quantity          312 non-null    int64 \n",
      " 7   price             312 non-null    object\n",
      " 8   notes             10 non-null     object\n",
      "dtypes: int64(3), object(6)\n",
      "memory usage: 22.1+ KB\n"
     ]
    }
   ],
   "source": [
    "df_dirty.info()"
   ]
  },
  {
   "cell_type": "markdown",
   "id": "ebaf3c05",
   "metadata": {},
   "source": [
    "- Всего 312 значений\n",
    "- Есть пропуски, в колонке __city__, __product_category__ и __notes__(больше всего около 90%)\n",
    "- Типы данных у price не соотвествуют действительности"
   ]
  },
  {
   "cell_type": "code",
   "execution_count": 15,
   "id": "bff917c3",
   "metadata": {},
   "outputs": [],
   "source": [
    "df_dirty['price'] = (df_dirty['price'].astype(str)\n",
    "               .str.replace('₽','', regex=False)\n",
    "               .str.replace(' ','', regex=True)\n",
    "               .str.strip()\n",
    "               .astype(float))"
   ]
  },
  {
   "cell_type": "code",
   "execution_count": 16,
   "id": "0a07745a",
   "metadata": {},
   "outputs": [
    {
     "data": {
      "text/plain": [
       "array(['Москва', '  спб   ', 'Екатеринбург', nan, 'СПб', 'Новосибирск',\n",
       "       'Казань', '  новосибирск   ', '  nan   ', '  казань   ',\n",
       "       '  москва   ', '  екатеринбург   '], dtype=object)"
      ]
     },
     "execution_count": 16,
     "metadata": {},
     "output_type": "execute_result"
    }
   ],
   "source": [
    "df_dirty['city'].unique()"
   ]
  },
  {
   "cell_type": "code",
   "execution_count": 17,
   "id": "f7d3494b",
   "metadata": {},
   "outputs": [
    {
     "data": {
      "text/plain": [
       "array(['Москва', 'Спб', 'Екатеринбург', 'Nan', 'Новосибирск', 'Казань'],\n",
       "      dtype=object)"
      ]
     },
     "execution_count": 17,
     "metadata": {},
     "output_type": "execute_result"
    }
   ],
   "source": [
    "df_dirty['city'] = (df_dirty['city'].astype(str).str.strip().str.replace(r'\\s+', ' ', regex=True).str.title())\n",
    "df_dirty['city'].unique()"
   ]
  },
  {
   "cell_type": "code",
   "execution_count": 18,
   "id": "14549709",
   "metadata": {},
   "outputs": [
    {
     "data": {
      "text/plain": [
       "city\n",
       "Спб             73\n",
       "Новосибирск     65\n",
       "Москва          59\n",
       "Екатеринбург    50\n",
       "Казань          43\n",
       "Nan             22\n",
       "Name: city, dtype: int64"
      ]
     },
     "execution_count": 18,
     "metadata": {},
     "output_type": "execute_result"
    }
   ],
   "source": [
    "df_dirty.groupby('city')['city'].count().sort_values(ascending=False)"
   ]
  },
  {
   "cell_type": "code",
   "execution_count": 19,
   "id": "d1b8b086",
   "metadata": {},
   "outputs": [],
   "source": [
    "df_dirty['city'] = df_dirty['city'].fillna('Unknown')\n",
    "df_dirty['product_category'] = df_dirty['product_category'].fillna('Unknown')"
   ]
  },
  {
   "cell_type": "code",
   "execution_count": 20,
   "id": "cfce66a3",
   "metadata": {},
   "outputs": [
    {
     "name": "stdout",
     "output_type": "stream",
     "text": [
      "Удалено дублей: 6\n"
     ]
    }
   ],
   "source": [
    "before = len(df_dirty)\n",
    "df_dirty = df_dirty.drop_duplicates()\n",
    "after = len(df_dirty)\n",
    "print(\"Удалено дублей:\", before - after)"
   ]
  },
  {
   "cell_type": "code",
   "execution_count": 21,
   "id": "bc531fed",
   "metadata": {},
   "outputs": [],
   "source": [
    "bad_qty = df_dirty.query('quantity <= 0').shape[0]\n",
    "df_dirty = df_dirty.query('quantity > 0').copy()"
   ]
  },
  {
   "cell_type": "code",
   "execution_count": 22,
   "id": "9a62593a",
   "metadata": {},
   "outputs": [],
   "source": [
    "p01, p99 = df_dirty['price'].quantile([.01, .99])\n",
    "df_dirty['price'] = df_dirty['price'].clip(lower=p01, upper=p99)"
   ]
  },
  {
   "cell_type": "code",
   "execution_count": 24,
   "id": "09a94c07",
   "metadata": {},
   "outputs": [],
   "source": [
    "df_dirty['revenue'] = df_dirty['quantity'] * df_dirty['price']\n",
    "df_dirty['avg_check'] = df_dirty['revenue'] / df_dirty['quantity']"
   ]
  },
  {
   "cell_type": "code",
   "execution_count": 26,
   "id": "8fdffa47",
   "metadata": {},
   "outputs": [],
   "source": [
    "del df_dirty['notes']"
   ]
  },
  {
   "cell_type": "code",
   "execution_count": 27,
   "id": "3392ee21",
   "metadata": {},
   "outputs": [
    {
     "data": {
      "text/html": [
       "<div>\n",
       "<style scoped>\n",
       "    .dataframe tbody tr th:only-of-type {\n",
       "        vertical-align: middle;\n",
       "    }\n",
       "\n",
       "    .dataframe tbody tr th {\n",
       "        vertical-align: top;\n",
       "    }\n",
       "\n",
       "    .dataframe thead th {\n",
       "        text-align: right;\n",
       "    }\n",
       "</style>\n",
       "<table border=\"1\" class=\"dataframe\">\n",
       "  <thead>\n",
       "    <tr style=\"text-align: right;\">\n",
       "      <th></th>\n",
       "      <th>source</th>\n",
       "      <th>order_id</th>\n",
       "      <th>customer_id</th>\n",
       "      <th>city</th>\n",
       "      <th>product_category</th>\n",
       "      <th>product</th>\n",
       "      <th>quantity</th>\n",
       "      <th>price</th>\n",
       "      <th>revenue</th>\n",
       "      <th>avg_check</th>\n",
       "    </tr>\n",
       "  </thead>\n",
       "  <tbody>\n",
       "    <tr>\n",
       "      <th>0</th>\n",
       "      <td>retail</td>\n",
       "      <td>1</td>\n",
       "      <td>1051</td>\n",
       "      <td>Москва</td>\n",
       "      <td>Электроника</td>\n",
       "      <td>Ноутбук</td>\n",
       "      <td>1</td>\n",
       "      <td>43158.0</td>\n",
       "      <td>43158.0</td>\n",
       "      <td>43158.0</td>\n",
       "    </tr>\n",
       "    <tr>\n",
       "      <th>1</th>\n",
       "      <td>web</td>\n",
       "      <td>2</td>\n",
       "      <td>1071</td>\n",
       "      <td>Спб</td>\n",
       "      <td>Одежда</td>\n",
       "      <td>Футболка</td>\n",
       "      <td>1</td>\n",
       "      <td>12284.0</td>\n",
       "      <td>12284.0</td>\n",
       "      <td>12284.0</td>\n",
       "    </tr>\n",
       "    <tr>\n",
       "      <th>2</th>\n",
       "      <td>web</td>\n",
       "      <td>3</td>\n",
       "      <td>1082</td>\n",
       "      <td>Москва</td>\n",
       "      <td>Unknown</td>\n",
       "      <td>Велосипед</td>\n",
       "      <td>3</td>\n",
       "      <td>5426.0</td>\n",
       "      <td>16278.0</td>\n",
       "      <td>5426.0</td>\n",
       "    </tr>\n",
       "    <tr>\n",
       "      <th>3</th>\n",
       "      <td>app</td>\n",
       "      <td>4</td>\n",
       "      <td>1074</td>\n",
       "      <td>Екатеринбург</td>\n",
       "      <td>Косметика</td>\n",
       "      <td>Крем</td>\n",
       "      <td>4</td>\n",
       "      <td>3744.0</td>\n",
       "      <td>14976.0</td>\n",
       "      <td>3744.0</td>\n",
       "    </tr>\n",
       "    <tr>\n",
       "      <th>4</th>\n",
       "      <td>web</td>\n",
       "      <td>5</td>\n",
       "      <td>1099</td>\n",
       "      <td>Nan</td>\n",
       "      <td>Unknown</td>\n",
       "      <td>Наушники</td>\n",
       "      <td>4</td>\n",
       "      <td>21023.0</td>\n",
       "      <td>84092.0</td>\n",
       "      <td>21023.0</td>\n",
       "    </tr>\n",
       "  </tbody>\n",
       "</table>\n",
       "</div>"
      ],
      "text/plain": [
       "   source  order_id  customer_id          city product_category    product  \\\n",
       "0  retail         1         1051        Москва      Электроника    Ноутбук   \n",
       "1     web         2         1071           Спб           Одежда   Футболка   \n",
       "2     web         3         1082        Москва          Unknown  Велосипед   \n",
       "3     app         4         1074  Екатеринбург        Косметика       Крем   \n",
       "4     web         5         1099           Nan          Unknown   Наушники   \n",
       "\n",
       "   quantity    price  revenue  avg_check  \n",
       "0         1  43158.0  43158.0    43158.0  \n",
       "1         1  12284.0  12284.0    12284.0  \n",
       "2         3   5426.0  16278.0     5426.0  \n",
       "3         4   3744.0  14976.0     3744.0  \n",
       "4         4  21023.0  84092.0    21023.0  "
      ]
     },
     "execution_count": 27,
     "metadata": {},
     "output_type": "execute_result"
    }
   ],
   "source": [
    "df_dirty.head()"
   ]
  },
  {
   "cell_type": "code",
   "execution_count": null,
   "id": "6aa6243d",
   "metadata": {},
   "outputs": [],
   "source": []
  }
 ],
 "metadata": {
  "kernelspec": {
   "display_name": ".venv",
   "language": "python",
   "name": "python3"
  },
  "language_info": {
   "codemirror_mode": {
    "name": "ipython",
    "version": 3
   },
   "file_extension": ".py",
   "mimetype": "text/x-python",
   "name": "python",
   "nbconvert_exporter": "python",
   "pygments_lexer": "ipython3",
   "version": "3.13.4"
  }
 },
 "nbformat": 4,
 "nbformat_minor": 5
}
