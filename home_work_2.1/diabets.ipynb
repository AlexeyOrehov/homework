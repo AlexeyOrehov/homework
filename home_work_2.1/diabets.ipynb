{
 "cells": [
  {
   "cell_type": "markdown",
   "id": "bd0b8e17",
   "metadata": {},
   "source": [
    "### Загрузим датасет"
   ]
  },
  {
   "cell_type": "code",
   "execution_count": 2,
   "id": "f903d504",
   "metadata": {},
   "outputs": [],
   "source": [
    "from sklearn.datasets import load_diabetes"
   ]
  },
  {
   "cell_type": "markdown",
   "id": "fbe1bae0",
   "metadata": {},
   "source": [
    "Выведем информацию о датасете"
   ]
  },
  {
   "cell_type": "code",
   "execution_count": 4,
   "id": "265d3157",
   "metadata": {},
   "outputs": [
    {
     "name": "stdout",
     "output_type": "stream",
     "text": [
      ".. _diabetes_dataset:\n",
      "\n",
      "Diabetes dataset\n",
      "----------------\n",
      "\n",
      "Ten baseline variables, age, sex, body mass index, average blood\n",
      "pressure, and six blood serum measurements were obtained for each of n =\n",
      "442 diabetes patients, as well as the response of interest, a\n",
      "quantitative measure of disease progression one year after baseline.\n",
      "\n",
      "**Data Set Characteristics:**\n",
      "\n",
      ":Number of Instances: 442\n",
      "\n",
      ":Number of Attributes: First 10 columns are numeric predictive values\n",
      "\n",
      ":Target: Column 11 is a quantitative measure of disease progression one year after baseline\n",
      "\n",
      ":Attribute Information:\n",
      "    - age     age in years\n",
      "    - sex\n",
      "    - bmi     body mass index\n",
      "    - bp      average blood pressure\n",
      "    - s1      tc, total serum cholesterol\n",
      "    - s2      ldl, low-density lipoproteins\n",
      "    - s3      hdl, high-density lipoproteins\n",
      "    - s4      tch, total cholesterol / HDL\n",
      "    - s5      ltg, possibly log of serum triglycerides level\n",
      "    - s6      glu, blood sugar level\n",
      "\n",
      "Note: Each of these 10 feature variables have been mean centered and scaled by the standard deviation times the square root of `n_samples` (i.e. the sum of squares of each column totals 1).\n",
      "\n",
      "Source URL:\n",
      "https://www4.stat.ncsu.edu/~boos/var.select/diabetes.html\n",
      "\n",
      "For more information see:\n",
      "Bradley Efron, Trevor Hastie, Iain Johnstone and Robert Tibshirani (2004) \"Least Angle Regression,\" Annals of Statistics (with discussion), 407-499.\n",
      "(https://web.stanford.edu/~hastie/Papers/LARS/LeastAngle_2002.pdf)\n",
      "\n"
     ]
    }
   ],
   "source": [
    "print(load_diabetes().DESCR)"
   ]
  },
  {
   "cell_type": "markdown",
   "id": "8300b8d0",
   "metadata": {},
   "source": [
    "Набор данных содержит:\n",
    "\n",
    "-    Набор данных о диабете: Набор данных пациентов с диабетом.\n",
    "-    Количество экземпляров: 442 пациента.\n",
    "-    Количество атрибутов: Первые 10 столбцов являются числовыми предиктивными значениями.\n",
    "-    Целевая переменная: Столбец 11 является количественной мерой прогрессирования заболевания через год после исходного уровня.\n",
    "-    Информация об атрибутах:\n",
    "       - __age__: возраст в годах\n",
    "       - __sex__: пол\n",
    "       - __bmi__: индекс массы тела\n",
    "       - __bp__: среднее артериальное давление\n",
    "       - __s1__: tc, общий сывороточный холестерин\n",
    "       - __s2__: ldl, липопротеины низкой плотности\n",
    "\n",
    "По сути, набор данных содержит информацию о 442 пациентах с диабетом, включая десять базовых переменных (возраст, пол, индекс массы тела, среднее артериальное давление и шесть измерений сыворотки крови), а также количественную меру прогрессирования заболевания через год после базового уровня."
   ]
  },
  {
   "cell_type": "code",
   "execution_count": 23,
   "id": "2e3b362e",
   "metadata": {},
   "outputs": [],
   "source": [
    "df = load_diabetes(as_frame=True).frame"
   ]
  },
  {
   "cell_type": "code",
   "execution_count": 24,
   "id": "8c3d2a72",
   "metadata": {},
   "outputs": [
    {
     "data": {
      "text/html": [
       "<div>\n",
       "<style scoped>\n",
       "    .dataframe tbody tr th:only-of-type {\n",
       "        vertical-align: middle;\n",
       "    }\n",
       "\n",
       "    .dataframe tbody tr th {\n",
       "        vertical-align: top;\n",
       "    }\n",
       "\n",
       "    .dataframe thead th {\n",
       "        text-align: right;\n",
       "    }\n",
       "</style>\n",
       "<table border=\"1\" class=\"dataframe\">\n",
       "  <thead>\n",
       "    <tr style=\"text-align: right;\">\n",
       "      <th></th>\n",
       "      <th>age</th>\n",
       "      <th>sex</th>\n",
       "      <th>bmi</th>\n",
       "      <th>bp</th>\n",
       "      <th>s1</th>\n",
       "      <th>s2</th>\n",
       "      <th>s3</th>\n",
       "      <th>s4</th>\n",
       "      <th>s5</th>\n",
       "      <th>s6</th>\n",
       "      <th>target</th>\n",
       "    </tr>\n",
       "  </thead>\n",
       "  <tbody>\n",
       "    <tr>\n",
       "      <th>0</th>\n",
       "      <td>0.038076</td>\n",
       "      <td>0.050680</td>\n",
       "      <td>0.061696</td>\n",
       "      <td>0.021872</td>\n",
       "      <td>-0.044223</td>\n",
       "      <td>-0.034821</td>\n",
       "      <td>-0.043401</td>\n",
       "      <td>-0.002592</td>\n",
       "      <td>0.019907</td>\n",
       "      <td>-0.017646</td>\n",
       "      <td>151.0</td>\n",
       "    </tr>\n",
       "    <tr>\n",
       "      <th>1</th>\n",
       "      <td>-0.001882</td>\n",
       "      <td>-0.044642</td>\n",
       "      <td>-0.051474</td>\n",
       "      <td>-0.026328</td>\n",
       "      <td>-0.008449</td>\n",
       "      <td>-0.019163</td>\n",
       "      <td>0.074412</td>\n",
       "      <td>-0.039493</td>\n",
       "      <td>-0.068332</td>\n",
       "      <td>-0.092204</td>\n",
       "      <td>75.0</td>\n",
       "    </tr>\n",
       "    <tr>\n",
       "      <th>2</th>\n",
       "      <td>0.085299</td>\n",
       "      <td>0.050680</td>\n",
       "      <td>0.044451</td>\n",
       "      <td>-0.005670</td>\n",
       "      <td>-0.045599</td>\n",
       "      <td>-0.034194</td>\n",
       "      <td>-0.032356</td>\n",
       "      <td>-0.002592</td>\n",
       "      <td>0.002861</td>\n",
       "      <td>-0.025930</td>\n",
       "      <td>141.0</td>\n",
       "    </tr>\n",
       "    <tr>\n",
       "      <th>3</th>\n",
       "      <td>-0.089063</td>\n",
       "      <td>-0.044642</td>\n",
       "      <td>-0.011595</td>\n",
       "      <td>-0.036656</td>\n",
       "      <td>0.012191</td>\n",
       "      <td>0.024991</td>\n",
       "      <td>-0.036038</td>\n",
       "      <td>0.034309</td>\n",
       "      <td>0.022688</td>\n",
       "      <td>-0.009362</td>\n",
       "      <td>206.0</td>\n",
       "    </tr>\n",
       "    <tr>\n",
       "      <th>4</th>\n",
       "      <td>0.005383</td>\n",
       "      <td>-0.044642</td>\n",
       "      <td>-0.036385</td>\n",
       "      <td>0.021872</td>\n",
       "      <td>0.003935</td>\n",
       "      <td>0.015596</td>\n",
       "      <td>0.008142</td>\n",
       "      <td>-0.002592</td>\n",
       "      <td>-0.031988</td>\n",
       "      <td>-0.046641</td>\n",
       "      <td>135.0</td>\n",
       "    </tr>\n",
       "  </tbody>\n",
       "</table>\n",
       "</div>"
      ],
      "text/plain": [
       "        age       sex       bmi        bp        s1        s2        s3  \\\n",
       "0  0.038076  0.050680  0.061696  0.021872 -0.044223 -0.034821 -0.043401   \n",
       "1 -0.001882 -0.044642 -0.051474 -0.026328 -0.008449 -0.019163  0.074412   \n",
       "2  0.085299  0.050680  0.044451 -0.005670 -0.045599 -0.034194 -0.032356   \n",
       "3 -0.089063 -0.044642 -0.011595 -0.036656  0.012191  0.024991 -0.036038   \n",
       "4  0.005383 -0.044642 -0.036385  0.021872  0.003935  0.015596  0.008142   \n",
       "\n",
       "         s4        s5        s6  target  \n",
       "0 -0.002592  0.019907 -0.017646   151.0  \n",
       "1 -0.039493 -0.068332 -0.092204    75.0  \n",
       "2 -0.002592  0.002861 -0.025930   141.0  \n",
       "3  0.034309  0.022688 -0.009362   206.0  \n",
       "4 -0.002592 -0.031988 -0.046641   135.0  "
      ]
     },
     "execution_count": 24,
     "metadata": {},
     "output_type": "execute_result"
    }
   ],
   "source": [
    "df.head()"
   ]
  },
  {
   "cell_type": "code",
   "execution_count": 25,
   "id": "72a7bd71",
   "metadata": {},
   "outputs": [
    {
     "name": "stdout",
     "output_type": "stream",
     "text": [
      "<class 'pandas.core.frame.DataFrame'>\n",
      "RangeIndex: 442 entries, 0 to 441\n",
      "Data columns (total 11 columns):\n",
      " #   Column  Non-Null Count  Dtype  \n",
      "---  ------  --------------  -----  \n",
      " 0   age     442 non-null    float64\n",
      " 1   sex     442 non-null    float64\n",
      " 2   bmi     442 non-null    float64\n",
      " 3   bp      442 non-null    float64\n",
      " 4   s1      442 non-null    float64\n",
      " 5   s2      442 non-null    float64\n",
      " 6   s3      442 non-null    float64\n",
      " 7   s4      442 non-null    float64\n",
      " 8   s5      442 non-null    float64\n",
      " 9   s6      442 non-null    float64\n",
      " 10  target  442 non-null    float64\n",
      "dtypes: float64(11)\n",
      "memory usage: 38.1 KB\n"
     ]
    }
   ],
   "source": [
    "df.info()"
   ]
  },
  {
   "cell_type": "markdown",
   "id": "07e074d6",
   "metadata": {},
   "source": [
    "Пропусков нет, все данные имеют тип float64, размер датасета - 442"
   ]
  },
  {
   "cell_type": "markdown",
   "id": "36cdfd6c",
   "metadata": {},
   "source": [
    "Подготовим данные к обучению моделей: отделите целевой признак от датасета, разделите датасет на тренировочную и валидационную части."
   ]
  },
  {
   "cell_type": "code",
   "execution_count": 27,
   "id": "ec9d5843",
   "metadata": {},
   "outputs": [],
   "source": [
    "from sklearn.model_selection import train_test_split\n",
    "\n",
    "X = df.drop(['target'], axis=1)\n",
    "y = df['target']\n",
    "\n",
    "X_train, X_test, y_train, y_test = train_test_split(X, y, train_size=0.2, random_state=42)"
   ]
  },
  {
   "cell_type": "markdown",
   "id": "ef9581b3",
   "metadata": {},
   "source": [
    "Создадим и обучим нашу модель"
   ]
  },
  {
   "cell_type": "code",
   "execution_count": 29,
   "id": "09b91fed",
   "metadata": {},
   "outputs": [],
   "source": [
    "from sklearn.tree import DecisionTreeRegressor\n",
    "\n",
    "model_tree = DecisionTreeRegressor()\n",
    "model_tree.fit(X_train, y_train)\n",
    "\n",
    "y_pred_tree = model_tree.predict(X_test)"
   ]
  },
  {
   "cell_type": "markdown",
   "id": "78503ea4",
   "metadata": {},
   "source": [
    "Оценим адекватность обученной модели"
   ]
  },
  {
   "cell_type": "code",
   "execution_count": 37,
   "id": "304843a6",
   "metadata": {},
   "outputs": [
    {
     "name": "stdout",
     "output_type": "stream",
     "text": [
      "MSE для DecisionTreeRegressor: 6516.98\n",
      "RMSE для DecisionTreeRegressor: 80.73\n",
      "R2 для DecisionTreeRegressor: -0.09\n"
     ]
    }
   ],
   "source": [
    "from sklearn.metrics import mean_squared_error, r2_score\n",
    "import numpy as np\n",
    "\n",
    "mse_tree = mean_squared_error(y_test, y_pred_tree)\n",
    "rmse_tree = np.sqrt(mse_tree)\n",
    "r2_tree = r2_score(y_test, y_pred_tree)\n",
    "\n",
    "print(f'MSE для DecisionTreeRegressor: {mse_tree:.2f}')\n",
    "print(f'RMSE для DecisionTreeRegressor: {rmse_tree:.2f}')\n",
    "print(f'R2 для DecisionTreeRegressor: {r2_tree:.2f}')"
   ]
  },
  {
   "cell_type": "code",
   "execution_count": 38,
   "id": "0372decc",
   "metadata": {},
   "outputs": [
    {
     "name": "stdout",
     "output_type": "stream",
     "text": [
      "MSE для простой модели: 6204.35\n",
      "RMSE для простой модели: 78.77\n",
      "R2 для простой модели: -0.04\n"
     ]
    }
   ],
   "source": [
    "y_pred_basline = np.full_like(y_test, y_train.mean())\n",
    "\n",
    "mse_basline = mean_squared_error(y_test, y_pred_basline)\n",
    "rmse_basline = np.sqrt(mse_basline)\n",
    "r2_basline = r2_score(y_test, y_pred_basline)\n",
    "\n",
    "print(f'MSE для простой модели: {mse_basline:.2f}')\n",
    "print(f'RMSE для простой модели: {rmse_basline:.2f}')\n",
    "print(f'R2 для простой модели: {r2_basline:.2f}')"
   ]
  },
  {
   "cell_type": "markdown",
   "id": "728f4867",
   "metadata": {},
   "source": [
    "Простая модель с прогнозом справилась лучше"
   ]
  },
  {
   "cell_type": "code",
   "execution_count": 39,
   "id": "3714f5a5",
   "metadata": {},
   "outputs": [
    {
     "name": "stdout",
     "output_type": "stream",
     "text": [
      "MSE для LinearRegression: 3371.17\n",
      "RMSE для LinearRegression: 78.77\n",
      "R2 для LinearRegression: 0.44\n"
     ]
    }
   ],
   "source": [
    "from sklearn.linear_model import LinearRegression\n",
    "\n",
    "model_linear = LinearRegression()\n",
    "model_linear.fit(X_train, y_train)\n",
    "\n",
    "y_pred_linear = model_linear.predict(X_test)\n",
    "\n",
    "mse_linear = mean_squared_error(y_test, y_pred_linear)\n",
    "rmse_linear = np.sqrt(mse_basline)\n",
    "r2_linear = r2_score(y_test, y_pred_linear)\n",
    "\n",
    "print(f'MSE для LinearRegression: {mse_linear:.2f}')\n",
    "print(f'RMSE для LinearRegression: {rmse_linear:.2f}')\n",
    "print(f'R2 для LinearRegression: {r2_linear:.2f}')"
   ]
  },
  {
   "cell_type": "markdown",
   "id": "62a344eb",
   "metadata": {},
   "source": [
    "Модель линейной регрессии справилась с прогнозом лучше простой и модели и DecisionTreeRegressor"
   ]
  }
 ],
 "metadata": {
  "kernelspec": {
   "display_name": ".venv",
   "language": "python",
   "name": "python3"
  },
  "language_info": {
   "codemirror_mode": {
    "name": "ipython",
    "version": 3
   },
   "file_extension": ".py",
   "mimetype": "text/x-python",
   "name": "python",
   "nbconvert_exporter": "python",
   "pygments_lexer": "ipython3",
   "version": "3.13.4"
  }
 },
 "nbformat": 4,
 "nbformat_minor": 5
}
