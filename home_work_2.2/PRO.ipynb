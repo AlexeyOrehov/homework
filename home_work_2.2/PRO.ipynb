{
 "cells": [
  {
   "cell_type": "markdown",
   "id": "d41ef4ac",
   "metadata": {},
   "source": [
    "### Стахостический градиентный спуск"
   ]
  },
  {
   "cell_type": "code",
   "execution_count": 1,
   "id": "a5aba6e3",
   "metadata": {},
   "outputs": [],
   "source": [
    "import numpy as np\n",
    "from sklearn.datasets import make_regression\n",
    "from sklearn.model_selection import train_test_split\n",
    "from sklearn.metrics import mean_absolute_error\n",
    "from sklearn.utils import shuffle"
   ]
  },
  {
   "cell_type": "code",
   "execution_count": 2,
   "id": "2973fcca",
   "metadata": {},
   "outputs": [],
   "source": [
    "X, y = make_regression(n_samples=100000, n_features=10, n_informative=10, random_state=42)\n",
    "\n",
    "X_train, X_test, y_train, y_test = train_test_split(X, y, train_size=0.8, random_state=42)"
   ]
  },
  {
   "cell_type": "code",
   "execution_count": 15,
   "id": "68f45516",
   "metadata": {},
   "outputs": [],
   "source": [
    "class MyLinearRegression:\n",
    "    def __init__(self, step_size, epochs, batch_size=None):\n",
    "        self.step_size = step_size\n",
    "        self.epochs = epochs\n",
    "        self.batch_size = batch_size\n",
    "\n",
    "    def fit(self, X_train, y_train):\n",
    "        self.w = np.zeros(X_train.shape[1] + 1)\n",
    "\n",
    "        if self.batch_size is None or self.batch_size >= X_train.shape[0]:\n",
    "            batch_size_actual = X_train.shape[0]\n",
    "        else:\n",
    "            batch_size_actual = self.batch_size\n",
    "\n",
    "        num_batch = int(np.ceil(X_train.shape[0] / batch_size_actual))\n",
    "\n",
    "        for epoch in range(self.epochs):\n",
    "            X_shuffled, y_shuffled = shuffle(X_train, y_train, random_state=epoch)\n",
    "\n",
    "            for i in range(num_batch):\n",
    "                start = i * batch_size_actual\n",
    "                end = min((i + 1) * batch_size_actual, X_shuffled.shape[0])\n",
    "\n",
    "                X_batch = X_shuffled[start:end]\n",
    "                y_batch = y_shuffled[start:end]\n",
    "\n",
    "                X_batch_with_ones = np.concatenate((np.ones((X_batch.shape[0], 1)), X_batch), axis=1)\n",
    "\n",
    "                y_pred = X_batch_with_ones @ self.w\n",
    "                gradient = 2 * X_batch_with_ones.T @ (y_pred - y_batch) / X_batch_with_ones.shape[0]\n",
    "\n",
    "                self.w = self.w - self.step_size * gradient\n",
    "\n",
    "        self.w0 = self.w[0]\n",
    "        self.w = self.w[1:]\n",
    "\n",
    "    def predict(self, X_test):\n",
    "        return X_test.dot(self.w) + self.w0\n",
    "\n"
   ]
  },
  {
   "cell_type": "code",
   "execution_count": 23,
   "id": "9b3948d9",
   "metadata": {},
   "outputs": [
    {
     "name": "stdout",
     "output_type": "stream",
     "text": [
      "--- Классический Градиентный Спуск (Batch GD) ---\n",
      "MAE (Batch GD): 6.173613008612563e-13\n",
      "CPU times: total: 2min 49s\n",
      "Wall time: 2min 36s\n"
     ]
    }
   ],
   "source": [
    "%%time\n",
    "print(\"--- Классический Градиентный Спуск (Batch GD) ---\")\n",
    "model_classic_gd = MyLinearRegression(step_size=0.01, epochs=5000, batch_size=X_train.shape[0])\n",
    "model_classic_gd.fit(X_train, y_train)\n",
    "y_pred_classic_gd = model_classic_gd.predict(X_test)\n",
    "mae_classic_gd = mean_absolute_error(y_test, y_pred_classic_gd)\n",
    "print(f\"MAE (Batch GD): {mae_classic_gd}\")"
   ]
  },
  {
   "cell_type": "code",
   "execution_count": 21,
   "id": "dae4209d",
   "metadata": {},
   "outputs": [
    {
     "name": "stdout",
     "output_type": "stream",
     "text": [
      "\n",
      "--- Стохастический Градиентный Спуск (SGD) ---\n",
      "MAE (SGD, batch_size=64): 2.054896671224715e-13\n",
      "CPU times: total: 16.1 s\n",
      "Wall time: 17.6 s\n"
     ]
    }
   ],
   "source": [
    "%%time\n",
    "print(\"\\n--- Стохастический Градиентный Спуск (SGD) ---\")\n",
    "model_sgd = MyLinearRegression(step_size=0.01, epochs=500, batch_size=64)\n",
    "model_sgd.fit(X_train, y_train)\n",
    "y_pred_sgd = model_sgd.predict(X_test)\n",
    "mae_sgd = mean_absolute_error(y_test, y_pred_sgd)\n",
    "print(f\"MAE (SGD, batch_size=64): {mae_sgd}\")"
   ]
  },
  {
   "cell_type": "markdown",
   "id": "99736033",
   "metadata": {},
   "source": [
    "Чтобы достичь точности MAE очень близкое к нуля, для классического ГС понадобилось 2,5 минуты, в то время как стахостический ГС справился всего за 18 секунд и его точность оказалась больше"
   ]
  }
 ],
 "metadata": {
  "kernelspec": {
   "display_name": ".venv",
   "language": "python",
   "name": "python3"
  },
  "language_info": {
   "codemirror_mode": {
    "name": "ipython",
    "version": 3
   },
   "file_extension": ".py",
   "mimetype": "text/x-python",
   "name": "python",
   "nbconvert_exporter": "python",
   "pygments_lexer": "ipython3",
   "version": "3.13.4"
  }
 },
 "nbformat": 4,
 "nbformat_minor": 5
}
